{
 "cells": [
  {
   "cell_type": "markdown",
   "id": "6fed9355",
   "metadata": {},
   "source": [
    "# how to create a list containing squares of numbers from 1 to 10.\n"
   ]
  },
  {
   "cell_type": "code",
   "execution_count": 1,
   "id": "6711804d",
   "metadata": {},
   "outputs": [
    {
     "name": "stdout",
     "output_type": "stream",
     "text": [
      "[1, 4, 9, 16, 25, 36, 49, 64, 81, 100]\n"
     ]
    }
   ],
   "source": [
    "square=[a**2 for a in range(1,11)]\n",
    "print(square)"
   ]
  },
  {
   "cell_type": "code",
   "execution_count": 2,
   "id": "12efffb2",
   "metadata": {},
   "outputs": [
    {
     "name": "stdout",
     "output_type": "stream",
     "text": [
      "square of 1 is 1\n",
      "square of 2 is 4\n",
      "square of 3 is 9\n",
      "square of 4 is 16\n",
      "square of 5 is 25\n",
      "square of 6 is 36\n",
      "square of 7 is 49\n",
      "square of 8 is 64\n",
      "square of 9 is 81\n",
      "square of 10 is 100\n"
     ]
    }
   ],
   "source": [
    "n=1\n",
    "while n<=10:\n",
    "    print(\"square of\" ,n,\"is\",n*n)\n",
    "    n=n+1"
   ]
  },
  {
   "cell_type": "code",
   "execution_count": 6,
   "id": "d0a157d0",
   "metadata": {},
   "outputs": [
    {
     "name": "stdout",
     "output_type": "stream",
     "text": [
      "[1, 4, 9, 16, 25, 36, 49, 64, 81, 100]\n"
     ]
    }
   ],
   "source": [
    "inpt=list(range(1,11))\n",
    "def squ (inpt):\n",
    "    square=[]\n",
    "    for i in inpt:\n",
    "        square.append(i**2)\n",
    "    return square\n",
    "print(squ(inpt))\n",
    "    "
   ]
  },
  {
   "cell_type": "code",
   "execution_count": 3,
   "id": "583c3cdf",
   "metadata": {},
   "outputs": [
    {
     "name": "stdout",
     "output_type": "stream",
     "text": [
      "[1, 4, 9, 16, 25, 36, 49, 64, 81, 100]\n"
     ]
    }
   ],
   "source": [
    "input = list (range(1,11))\n",
    "\n",
    "def sqr(input):\n",
    "    square =[]\n",
    "    for i in input:\n",
    "        square.append(i**2)\n",
    "    return square\n",
    "\n",
    "print(sqr(input))"
   ]
  },
  {
   "cell_type": "code",
   "execution_count": null,
   "id": "3085d00d",
   "metadata": {},
   "outputs": [],
   "source": []
  },
  {
   "cell_type": "code",
   "execution_count": 10,
   "id": "cd8c5b09",
   "metadata": {},
   "outputs": [
    {
     "name": "stdout",
     "output_type": "stream",
     "text": [
      "[1, 4, 9, 16, 25, 36, 49, 64, 81, 100, 121, 144, 169, 196, 225, 256, 289, 324, 361, 400, 441, 484, 529, 576, 625, 676, 729, 784, 841, 900, 961, 1024, 1089, 1156, 1225, 1296, 1369, 1444, 1521, 1600]\n"
     ]
    }
   ],
   "source": [
    "x=[x*x for x in range (1,41)]\n",
    "print(x)"
   ]
  },
  {
   "cell_type": "code",
   "execution_count": 18,
   "id": "664023fa",
   "metadata": {},
   "outputs": [
    {
     "name": "stdout",
     "output_type": "stream",
     "text": [
      "1 8 27 64 125 216 343 512 729 1000 1331 1728 2197 2744 3375 4096 4913 5832 6859 8000 9261 10648 12167 13824 15625 17576 19683 21952 24389 27000 29791 32768 35937 39304 42875 46656 50653 54872 59319 64000 "
     ]
    }
   ],
   "source": [
    "for x in range (1,41):\n",
    "    x=x*x*x\n",
    "    print(x,end=\" \")"
   ]
  },
  {
   "cell_type": "code",
   "execution_count": 24,
   "id": "16314a23",
   "metadata": {},
   "outputs": [
    {
     "name": "stdout",
     "output_type": "stream",
     "text": [
      "3 6 9 12 15 18 21 24 27 30 "
     ]
    }
   ],
   "source": [
    "for j in range(1,11):\n",
    "    j=j*3\n",
    "    print(j,end=\" \")"
   ]
  },
  {
   "cell_type": "code",
   "execution_count": 23,
   "id": "6e6154db",
   "metadata": {},
   "outputs": [
    {
     "name": "stdout",
     "output_type": "stream",
     "text": [
      "4 8 12 16 20 24 28 32 36 40 "
     ]
    }
   ],
   "source": [
    "for x in range (1,11):\n",
    "    x=x*4\n",
    "    print(x,end=\" \")"
   ]
  },
  {
   "cell_type": "markdown",
   "id": "eceabac9",
   "metadata": {},
   "source": [
    "# Write a Function to check if year number is a leap year\n"
   ]
  },
  {
   "cell_type": "raw",
   "id": "7f02f5db",
   "metadata": {},
   "source": [
    "2000 is leap year\n",
    "2008 is a leap year\n",
    "2100 or 1900 is not leap year\n",
    "year div by 400= leap year\n",
    "year div by 4 but not by 100= leap year"
   ]
  },
  {
   "cell_type": "code",
   "execution_count": 20,
   "id": "36b83d57",
   "metadata": {},
   "outputs": [
    {
     "name": "stdout",
     "output_type": "stream",
     "text": [
      "Enter the Year2008\n",
      "2008 is a leap year\n"
     ]
    }
   ],
   "source": [
    "year = int(input(\"Enter the Year\"))\n",
    "if year%400==0:\n",
    "    print(year,\"is a leap year\")\n",
    "elif year%4==0 and year%100!=0:\n",
    "    print(year,\"is a leap year\")\n",
    "else:\n",
    "    print(year,\"is not a leap year\")\n",
    "    "
   ]
  },
  {
   "cell_type": "code",
   "execution_count": 24,
   "id": "053d768b",
   "metadata": {},
   "outputs": [
    {
     "name": "stdout",
     "output_type": "stream",
     "text": [
      "Enter the Year2016\n",
      "2016 is a leap year\n"
     ]
    }
   ],
   "source": [
    "year = int(input(\"Enter the Year\"))\n",
    "if year%400==0:\n",
    "    print(year,\"is a leap year\")\n",
    "elif year%4==0 and year%100!=0:\n",
    "    print(year,\"is a leap year\")\n",
    "else:\n",
    "    print(year,\"is not a leap year\")\n",
    "    "
   ]
  },
  {
   "cell_type": "code",
   "execution_count": 21,
   "id": "0425e264",
   "metadata": {},
   "outputs": [
    {
     "name": "stdout",
     "output_type": "stream",
     "text": [
      "Enter the Year2000\n",
      "2000 is a leap year\n"
     ]
    }
   ],
   "source": [
    "year = int(input(\"Enter the Year\"))\n",
    "if year%400==0:\n",
    "    print(year,\"is a leap year\")\n",
    "elif year%4==0 and year%100!=0:\n",
    "    print(year,\"is a leap year\")\n",
    "else:\n",
    "    print(year,\"is not a leap year\")\n",
    "    "
   ]
  },
  {
   "cell_type": "code",
   "execution_count": 22,
   "id": "4fa43686",
   "metadata": {},
   "outputs": [
    {
     "name": "stdout",
     "output_type": "stream",
     "text": [
      "Enter the Year1900\n",
      "1900 is not a leap year\n"
     ]
    }
   ],
   "source": [
    "year = int(input(\"Enter the Year\"))\n",
    "if year%400==0:\n",
    "    print(year,\"is a leap year\")\n",
    "elif year%4==0 and year%100!=0:\n",
    "    print(year,\"is a leap year\")\n",
    "else:\n",
    "    print(year,\"is not a leap year\")\n",
    "    "
   ]
  },
  {
   "cell_type": "code",
   "execution_count": 23,
   "id": "e3ef592e",
   "metadata": {},
   "outputs": [
    {
     "name": "stdout",
     "output_type": "stream",
     "text": [
      "Enter the Year2100\n",
      "2100 is not a leap year\n"
     ]
    }
   ],
   "source": [
    "year = int(input(\"Enter the Year\"))\n",
    "if year%400==0:\n",
    "    print(year,\"is a leap year\")\n",
    "elif year%4==0 and year%100!=0:\n",
    "    print(year,\"is a leap year\")\n",
    "else:\n",
    "    print(year,\"is not a leap year\")\n",
    "    "
   ]
  },
  {
   "cell_type": "markdown",
   "id": "8c88b25e",
   "metadata": {},
   "source": [
    "# Write a Function to take an array and return another array that contains the members of first array that are even.\n"
   ]
  },
  {
   "cell_type": "code",
   "execution_count": 11,
   "id": "3b322f6a",
   "metadata": {},
   "outputs": [
    {
     "name": "stdout",
     "output_type": "stream",
     "text": [
      "Enter the lenghth of Array1:12\n",
      "Enter the value of Array1: 231\n",
      "Enter the value of Array1: 12\n",
      "Enter the value of Array1: 554\n",
      "Enter the value of Array1: 145\n",
      "Enter the value of Array1: 655\n",
      "Enter the value of Array1: 4584\n",
      "Enter the value of Array1: 452\n",
      "Enter the value of Array1: 124\n",
      "Enter the value of Array1: 145\n",
      "Enter the value of Array1: 1232\n",
      "Enter the value of Array1: 123\n",
      "Enter the value of Array1: 1452\n",
      "Array1=  [231, 12, 554, 145, 655, 4584, 452, 124, 145, 1232, 123, 1452]\n",
      "Array of Even Numbers= [12, 554, 4584, 452, 124, 1232, 1452]\n"
     ]
    }
   ],
   "source": [
    "\n",
    "def function1():\n",
    "    array1=[]\n",
    "    n=int(input(\"Enter the lenghth of Array1:\"))\n",
    "    i=0\n",
    "    while i<n:\n",
    "        \n",
    "        array1.append(int(input(\"Enter the value of Array1: \")))\n",
    "        i+=1\n",
    "    print(\"Array1= \",array1)\n",
    "    array2=[]    \n",
    "    for x in array1:\n",
    "        if x%2==0:\n",
    "            array2.append(x)\n",
    "    return array2\n",
    "A=function1()\n",
    "print(\"Array of Even Numbers=\",A)\n"
   ]
  },
  {
   "cell_type": "code",
   "execution_count": 12,
   "id": "bfdff47a",
   "metadata": {},
   "outputs": [
    {
     "name": "stdout",
     "output_type": "stream",
     "text": [
      "Enter the lenghth of Array1:6\n",
      "Enter the value of Array1: 212\n",
      "Enter the value of Array1: 454\n",
      "Enter the value of Array1: 4141\n",
      "Enter the value of Array1: 52\n",
      "Enter the value of Array1: 111\n",
      "Enter the value of Array1: 123\n",
      "Array1=  [212, 454, 4141, 52, 111, 123]\n",
      "Array of even Nombers= [212, 454, 52]\n"
     ]
    }
   ],
   "source": [
    "\n",
    "def function1():\n",
    "    array1=[]\n",
    "    n=int(input(\"Enter the lenghth of Array1:\"))\n",
    "    i=0\n",
    "    while i<n:\n",
    "        \n",
    "        array1.append(int(input(\"Enter the value of Array1: \")))\n",
    "        i+=1\n",
    "    print(\"Array1= \",array1)\n",
    "    array2=[]    \n",
    "    for x in array1:\n",
    "        if x%2==0:\n",
    "            array2.append(x)\n",
    "    return array2\n",
    "A=function1()\n",
    "print(\"Array of even Nombers=\",A)\n"
   ]
  },
  {
   "cell_type": "markdown",
   "id": "8a6c5893",
   "metadata": {},
   "source": [
    "# Write a Function that takes 2 arrays and prints the members of first array that are present of second array.\n"
   ]
  },
  {
   "cell_type": "code",
   "execution_count": 16,
   "id": "662640ea",
   "metadata": {},
   "outputs": [
    {
     "name": "stdout",
     "output_type": "stream",
     "text": [
      "Enter the length of Array1: 6\n",
      "Enter the value: 12\n",
      "Enter the value: 10\n",
      "Enter the value: 23\n",
      "Enter the value: 14\n",
      "Enter the value: 15\n",
      "Enter the value: 16\n",
      "Array1=  [12, 10, 23, 14, 15, 16]\n",
      "Enter the length of Array2: 17\n",
      "Enter the value: 8\n",
      "Enter the value: 10\n",
      "Enter the value: 20\n",
      "Enter the value: 15\n",
      "Enter the value: 14\n",
      "Enter the value: 16\n",
      "Enter the value: 22\n",
      "Enter the value: 54\n",
      "Enter the value: 23\n",
      "Enter the value: 156\n",
      "Enter the value: 45\n",
      "Enter the value: 41\n",
      "Enter the value: 56\n",
      "Enter the value: 417\n",
      "Enter the value: 4584\n",
      "Enter the value: 45\n",
      "Enter the value: 745\n",
      "Array1=  [12, 10, 23, 14, 15, 16]\n",
      "Array2=  [8, 10, 20, 15, 14, 16, 22, 54, 23, 156, 45, 41, 56, 417, 4584, 45, 745]\n",
      "10\n",
      "23\n",
      "14\n",
      "15\n",
      "16\n",
      "None\n"
     ]
    }
   ],
   "source": [
    "def function2():\n",
    "    array1=[]\n",
    "    n=int(input(\"Enter the length of Array1: \"))\n",
    "    i=1\n",
    "    while i<=n:\n",
    "        array1.append(int(input(\"Enter the value: \")))\n",
    "        i+=1\n",
    "    print(\"Array1= \",array1)\n",
    "    array2=[]\n",
    "    m=int(input(\"Enter the length of Array2: \"))\n",
    "    j=1\n",
    "    while j<=m:\n",
    "        array2.append(int(input(\"Enter the value: \")))\n",
    "        j+=1\n",
    "    print(\"Array1= \",array1)\n",
    "    print(\"Array2= \",array2)\n",
    "    for x in array1:\n",
    "        if x in array2:\n",
    "            print(x)\n",
    "B=function2()\n",
    "print(B)\n",
    "        "
   ]
  },
  {
   "cell_type": "code",
   "execution_count": null,
   "id": "bccb199d",
   "metadata": {},
   "outputs": [],
   "source": []
  },
  {
   "cell_type": "code",
   "execution_count": null,
   "id": "c461e8ab",
   "metadata": {},
   "outputs": [],
   "source": []
  },
  {
   "cell_type": "code",
   "execution_count": null,
   "id": "36fa1883",
   "metadata": {},
   "outputs": [],
   "source": []
  }
 ],
 "metadata": {
  "kernelspec": {
   "display_name": "Python 3 (ipykernel)",
   "language": "python",
   "name": "python3"
  },
  "language_info": {
   "codemirror_mode": {
    "name": "ipython",
    "version": 3
   },
   "file_extension": ".py",
   "mimetype": "text/x-python",
   "name": "python",
   "nbconvert_exporter": "python",
   "pygments_lexer": "ipython3",
   "version": "3.11.0"
  }
 },
 "nbformat": 4,
 "nbformat_minor": 5
}
