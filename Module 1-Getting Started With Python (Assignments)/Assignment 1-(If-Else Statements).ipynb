{
 "cells": [
  {
   "attachments": {},
   "cell_type": "markdown",
   "id": "915c2dfb",
   "metadata": {},
   "source": [
    "# `Problem Statement`:\n",
    "#### you work in XYZ corporation as data analyst. Your company has told you to work with the (if-else) conditions.\n",
    "##### Tasks to be performed:\n",
    "* 1.Input the values of a and b as 10 and 20 respectively. Now check if a greater or b is greater using if condition. \n",
    "*    Think about all the edge class, and print the statements accordingly."
   ]
  },
  {
   "cell_type": "code",
   "execution_count": 1,
   "id": "883ec5e9",
   "metadata": {},
   "outputs": [
    {
     "name": "stdout",
     "output_type": "stream",
     "text": [
      "b is greater than a\n"
     ]
    }
   ],
   "source": [
    "a=10\n",
    "b=20\n",
    "if a<b:\n",
    "    print(\"b is greater than a\")\n",
    "elif a==b:\n",
    "    print(\"a and b is equal\")\n",
    "else :\n",
    "    print(\"a is greater than b\")"
   ]
  },
  {
   "cell_type": "code",
   "execution_count": 2,
   "id": "bb706253",
   "metadata": {},
   "outputs": [
    {
     "name": "stdout",
     "output_type": "stream",
     "text": [
      "a is greater than b\n"
     ]
    }
   ],
   "source": [
    "a=1045\n",
    "b=100\n",
    "if a<b:\n",
    "    print(\"b is greater than a\")\n",
    "elif a==b:\n",
    "    print(\"a and b is equal\")\n",
    "else :\n",
    "    print(\"a is greater than b\")"
   ]
  },
  {
   "cell_type": "code",
   "execution_count": null,
   "id": "c21acbfa",
   "metadata": {},
   "outputs": [],
   "source": []
  },
  {
   "cell_type": "code",
   "execution_count": null,
   "id": "1af89e48",
   "metadata": {},
   "outputs": [],
   "source": []
  },
  {
   "cell_type": "code",
   "execution_count": null,
   "id": "21bb77ce",
   "metadata": {},
   "outputs": [],
   "source": []
  }
 ],
 "metadata": {
  "kernelspec": {
   "display_name": "Python 3",
   "language": "python",
   "name": "python3"
  },
  "language_info": {
   "codemirror_mode": {
    "name": "ipython",
    "version": 3
   },
   "file_extension": ".py",
   "mimetype": "text/x-python",
   "name": "python",
   "nbconvert_exporter": "python",
   "pygments_lexer": "ipython3",
   "version": "3.11.0"
  },
  "vscode": {
   "interpreter": {
    "hash": "d54854e463900f2ddba04b7743d71b5993ddf904aa9496106acf58328caea890"
   }
  }
 },
 "nbformat": 4,
 "nbformat_minor": 5
}
