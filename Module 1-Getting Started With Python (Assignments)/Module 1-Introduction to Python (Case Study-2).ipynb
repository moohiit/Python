{
 "cells": [
  {
   "cell_type": "markdown",
   "id": "af5a9887",
   "metadata": {},
   "source": [
    "# 1. Create 1st tuple with values -> (10,20,30), 2nd tuple with values -> (40,50,60). \n",
    "\n",
    "a. Concatenate the two tuples and store it in “t_combine”\n",
    "\n",
    "b. Repeat the elements of “t_combine” 3 times \n",
    "\n",
    "c. Access the 3rd element from “t_combine”\n",
    "\n",
    "d. Access the first three elements from “t_combine”\n",
    "\n",
    "e. Access the last three elements from “t_combine”\n"
   ]
  },
  {
   "cell_type": "markdown",
   "id": "28b81b80",
   "metadata": {},
   "source": [
    "# a. Concatenate the two tuples and store it in “t_combine”"
   ]
  },
  {
   "cell_type": "code",
   "execution_count": 1,
   "id": "cfd60bb2",
   "metadata": {},
   "outputs": [
    {
     "name": "stdout",
     "output_type": "stream",
     "text": [
      "Tuple1=:  (10, 20, 30)\n",
      "Tuple2=:  (40, 50, 60)\n",
      "combine tuple:  (10, 20, 30, 40, 50, 60)\n"
     ]
    }
   ],
   "source": [
    "tuple1=(10,20,30)\n",
    "tuple2=(40,50,60) \n",
    "b=tuple1+tuple2\n",
    "print(\"Tuple1=: \",tuple1)\n",
    "print(\"Tuple2=: \",tuple2)\n",
    "print(\"combine tuple: \",b)"
   ]
  },
  {
   "cell_type": "markdown",
   "id": "e4989a03",
   "metadata": {},
   "source": [
    "# B. Repeat the element of combine tuple 3 times."
   ]
  },
  {
   "cell_type": "code",
   "execution_count": 2,
   "id": "72d9303c",
   "metadata": {},
   "outputs": [
    {
     "name": "stdout",
     "output_type": "stream",
     "text": [
      "Final Tuple:  (10, 20, 30, 40, 50, 60, 10, 20, 30, 40, 50, 60, 10, 20, 30, 40, 50, 60)\n"
     ]
    }
   ],
   "source": [
    "combine_tuple= (10, 20, 30, 40, 50, 60)\n",
    "# a=combine_tuple+combine_tuple+combine_tuple\n",
    "a= combine_tuple*3\n",
    "print(\"Final Tuple: \",a)"
   ]
  },
  {
   "cell_type": "code",
   "execution_count": 10,
   "id": "3badea54",
   "metadata": {},
   "outputs": [
    {
     "name": "stdout",
     "output_type": "stream",
     "text": [
      "(10, 20, 30, 40, 50, 60, 10, 20, 30, 40, 50, 60, 10, 20, 30, 40, 50, 60)\n"
     ]
    }
   ],
   "source": [
    "combine_tuple= (10, 20, 30, 40, 50, 60)\n",
    "b=combine_tuple*3\n",
    "print(b)"
   ]
  },
  {
   "cell_type": "markdown",
   "id": "2bbf117d",
   "metadata": {},
   "source": [
    "# C. Access the 3rd element from “t_combine”"
   ]
  },
  {
   "cell_type": "code",
   "execution_count": 3,
   "id": "c63b4e5d",
   "metadata": {},
   "outputs": [
    {
     "name": "stdout",
     "output_type": "stream",
     "text": [
      "Tuple:  (10, 20, 30, 40, 50, 60)\n",
      "The third element of tuple:  30\n"
     ]
    }
   ],
   "source": [
    "print(\"Tuple: \",combine_tuple)\n",
    "print(\"The third element of tuple: \",combine_tuple[2])"
   ]
  },
  {
   "cell_type": "markdown",
   "id": "148128e1",
   "metadata": {},
   "source": [
    "# D. Access the first three elements from “t_combine”"
   ]
  },
  {
   "cell_type": "code",
   "execution_count": 4,
   "id": "bcc689eb",
   "metadata": {},
   "outputs": [
    {
     "name": "stdout",
     "output_type": "stream",
     "text": [
      "Tuple:  (10, 20, 30, 40, 50, 60)\n",
      "The first three elements tuple is:  (10, 20, 30)\n"
     ]
    }
   ],
   "source": [
    "print(\"Tuple: \",combine_tuple)\n",
    "print(\"The first three elements tuple is: \",combine_tuple[0:3])"
   ]
  },
  {
   "cell_type": "markdown",
   "id": "cc0d52de",
   "metadata": {},
   "source": [
    "# E. Access the last three elements from “t_combine\""
   ]
  },
  {
   "cell_type": "code",
   "execution_count": 5,
   "id": "b762e2d3",
   "metadata": {},
   "outputs": [
    {
     "name": "stdout",
     "output_type": "stream",
     "text": [
      "Tuple:  (10, 20, 30, 40, 50, 60)\n",
      "The last three elements tuple is:  (40, 50, 60)\n"
     ]
    }
   ],
   "source": [
    "print(\"Tuple: \",combine_tuple)\n",
    "print(\"The last three elements tuple is: \",combine_tuple[3:6])"
   ]
  },
  {
   "cell_type": "markdown",
   "id": "be5a9ab2",
   "metadata": {},
   "source": [
    "# 2. Create a list ‘my_list’ with these elements: \n",
    "a. First element is a tuple with values 1,2,3\n",
    "\n",
    "b. Second element is a tuple with values “a”,”b”,”c”\n",
    "\n",
    "c. Third element is a tuple with values True,False "
   ]
  },
  {
   "cell_type": "code",
   "execution_count": 6,
   "id": "cd9e8f0e",
   "metadata": {},
   "outputs": [
    {
     "name": "stdout",
     "output_type": "stream",
     "text": [
      "my_List:  [(1, 2, 3), ('a', 'b', 'c'), ('True', 'False')]\n"
     ]
    }
   ],
   "source": [
    "#a. First element is a tuple with values 1,2,3\n",
    "\n",
    "my_list=[(1,2,3),(\"a\",\"b\",\"c\"),(\"True\",\"False\")]\n",
    "print(\"my_List: \",my_list)"
   ]
  },
  {
   "cell_type": "markdown",
   "id": "376d2c2d",
   "metadata": {},
   "source": [
    "# 3. Append a new tuple – (1,’a’,True) to ‘my_list’\n",
    "a. Append a new list – *“sparta”,123+ to my_list "
   ]
  },
  {
   "cell_type": "code",
   "execution_count": 7,
   "id": "ac7fc817",
   "metadata": {},
   "outputs": [
    {
     "name": "stdout",
     "output_type": "stream",
     "text": [
      "[(1, 2, 3), ('a', 'b', 'c'), ('True', 'False'), (1, 'a', 'true')]\n"
     ]
    }
   ],
   "source": [
    "my_list.append((1,\"a\",\"true\"))\n",
    "print(my_list)"
   ]
  },
  {
   "cell_type": "markdown",
   "id": "0e62ecbf",
   "metadata": {},
   "source": [
    "# Create a dictionary ‘fruit’ where: \n",
    "#a. The first key is ‘Fruit’ and the values are (“Apple”,”Banana”,”Mango”,”Guava”)\n",
    "\n",
    "#b. The second key is ‘Cost’ and the values are (85,54,120,70) \n",
    "\n",
    "#c. Extract all the keys from ‘fruit’\n",
    "\n",
    "#d. Extract all the values from ‘fruit’"
   ]
  },
  {
   "cell_type": "code",
   "execution_count": 8,
   "id": "1c82db54",
   "metadata": {},
   "outputs": [
    {
     "name": "stdout",
     "output_type": "stream",
     "text": [
      "{'fruit': ('Apple', 'Banana', 'Mango', 'Guava'), 'cost': (85, 54, 120, 70)}\n"
     ]
    }
   ],
   "source": [
    "dict1={\"fruit\":(\"Apple\",\"Banana\",\"Mango\",\"Guava\"),\"cost\":(85,54,120,70),}\n",
    "print(dict1)"
   ]
  },
  {
   "cell_type": "code",
   "execution_count": 9,
   "id": "50021ecb",
   "metadata": {},
   "outputs": [
    {
     "data": {
      "text/plain": [
       "dict_keys(['fruit', 'cost'])"
      ]
     },
     "execution_count": 9,
     "metadata": {},
     "output_type": "execute_result"
    }
   ],
   "source": [
    "dict1.keys()"
   ]
  },
  {
   "cell_type": "code",
   "execution_count": 10,
   "id": "a8931703",
   "metadata": {},
   "outputs": [
    {
     "data": {
      "text/plain": [
       "dict_values([('Apple', 'Banana', 'Mango', 'Guava'), (85, 54, 120, 70)])"
      ]
     },
     "execution_count": 10,
     "metadata": {},
     "output_type": "execute_result"
    }
   ],
   "source": [
    "dict1.values()"
   ]
  },
  {
   "cell_type": "code",
   "execution_count": 11,
   "id": "92fd9a8d",
   "metadata": {},
   "outputs": [
    {
     "data": {
      "text/plain": [
       "dict_items([('fruit', ('Apple', 'Banana', 'Mango', 'Guava')), ('cost', (85, 54, 120, 70))])"
      ]
     },
     "execution_count": 11,
     "metadata": {},
     "output_type": "execute_result"
    }
   ],
   "source": [
    "dict1.items()"
   ]
  },
  {
   "cell_type": "code",
   "execution_count": 12,
   "id": "5bf6677a",
   "metadata": {},
   "outputs": [
    {
     "name": "stdout",
     "output_type": "stream",
     "text": [
      "{'fruit': ('Apple', 'Banana', 'Mango', 'Guava'), 'cost': (85, 54, 120, 70), 'M': 'Mohit'}\n"
     ]
    }
   ],
   "source": [
    "dict1[\"M\"]=\"Mohit\"\n",
    "print(dict1)"
   ]
  },
  {
   "cell_type": "markdown",
   "id": "b22e9c40",
   "metadata": {},
   "source": [
    "# 5.Crete a set named ‘my_set’ with values (1,1,”a”,”a”,True,True) and print the result"
   ]
  },
  {
   "cell_type": "code",
   "execution_count": 41,
   "id": "03194a53",
   "metadata": {},
   "outputs": [
    {
     "name": "stdout",
     "output_type": "stream",
     "text": [
      "{1, 'a', 'true'}\n"
     ]
    }
   ],
   "source": [
    "my_set={1,1,'a','a','true',\"true\"}\n",
    "print(my_set)"
   ]
  },
  {
   "attachments": {},
   "cell_type": "markdown",
   "id": "0743f0f4",
   "metadata": {},
   "source": [
    "Creating a `DataFrame` using dictionary"
   ]
  },
  {
   "cell_type": "code",
   "execution_count": 14,
   "id": "eb3d0a1c",
   "metadata": {},
   "outputs": [
    {
     "data": {
      "text/html": [
       "<div>\n",
       "<style scoped>\n",
       "    .dataframe tbody tr th:only-of-type {\n",
       "        vertical-align: middle;\n",
       "    }\n",
       "\n",
       "    .dataframe tbody tr th {\n",
       "        vertical-align: top;\n",
       "    }\n",
       "\n",
       "    .dataframe thead th {\n",
       "        text-align: right;\n",
       "    }\n",
       "</style>\n",
       "<table border=\"1\" class=\"dataframe\">\n",
       "  <thead>\n",
       "    <tr style=\"text-align: right;\">\n",
       "      <th></th>\n",
       "      <th>fruit</th>\n",
       "      <th>cost</th>\n",
       "      <th>M</th>\n",
       "    </tr>\n",
       "  </thead>\n",
       "  <tbody>\n",
       "    <tr>\n",
       "      <th>0</th>\n",
       "      <td>Apple</td>\n",
       "      <td>85</td>\n",
       "      <td>Mohit</td>\n",
       "    </tr>\n",
       "    <tr>\n",
       "      <th>1</th>\n",
       "      <td>Banana</td>\n",
       "      <td>54</td>\n",
       "      <td>Mohit</td>\n",
       "    </tr>\n",
       "    <tr>\n",
       "      <th>2</th>\n",
       "      <td>Mango</td>\n",
       "      <td>120</td>\n",
       "      <td>Mohit</td>\n",
       "    </tr>\n",
       "    <tr>\n",
       "      <th>3</th>\n",
       "      <td>Guava</td>\n",
       "      <td>70</td>\n",
       "      <td>Mohit</td>\n",
       "    </tr>\n",
       "  </tbody>\n",
       "</table>\n",
       "</div>"
      ],
      "text/plain": [
       "    fruit  cost      M\n",
       "0   Apple    85  Mohit\n",
       "1  Banana    54  Mohit\n",
       "2   Mango   120  Mohit\n",
       "3   Guava    70  Mohit"
      ]
     },
     "execution_count": 14,
     "metadata": {},
     "output_type": "execute_result"
    }
   ],
   "source": [
    "import pandas as pd\n",
    "pd.DataFrame(dict1)"
   ]
  },
  {
   "cell_type": "code",
   "execution_count": null,
   "id": "876cb7e6",
   "metadata": {},
   "outputs": [],
   "source": []
  }
 ],
 "metadata": {
  "kernelspec": {
   "display_name": "Python 3 (ipykernel)",
   "language": "python",
   "name": "python3"
  },
  "language_info": {
   "codemirror_mode": {
    "name": "ipython",
    "version": 3
   },
   "file_extension": ".py",
   "mimetype": "text/x-python",
   "name": "python",
   "nbconvert_exporter": "python",
   "pygments_lexer": "ipython3",
   "version": "3.11.0"
  }
 },
 "nbformat": 4,
 "nbformat_minor": 5
}
