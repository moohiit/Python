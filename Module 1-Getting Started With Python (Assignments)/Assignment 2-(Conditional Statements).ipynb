{
 "cells": [
  {
   "attachments": {},
   "cell_type": "markdown",
   "id": "5dc02de7",
   "metadata": {},
   "source": [
    "## Tasks to be performed:\n",
    "#### 1.Take three user inputs and print the greatest number from those inputs using if-else condition. Else cases if 0 any should be handled."
   ]
  },
  {
   "cell_type": "code",
   "execution_count": 1,
   "id": "a693446e",
   "metadata": {},
   "outputs": [
    {
     "name": "stdout",
     "output_type": "stream",
     "text": [
      "Enter your numbers:\n",
      "b is greatest\n"
     ]
    }
   ],
   "source": [
    "print(\"Enter your numbers:\")\n",
    "a=int(input(\"Enter a:\"))\n",
    "b=int(input(\"Enter b:\"))\n",
    "c=int(input(\"Enter c:\"))\n",
    "if a>b:\n",
    "    if a>c:\n",
    "        print(\"a is greatest\")\n",
    "    else:\n",
    "        print(\"c is greatest\")\n",
    "else:\n",
    "    print(\"b is greatest\")"
   ]
  },
  {
   "cell_type": "code",
   "execution_count": 4,
   "id": "71baf8ac",
   "metadata": {},
   "outputs": [
    {
     "name": "stdout",
     "output_type": "stream",
     "text": [
      "Enter your numbers:\n",
      "a: 20\n",
      "b: 30\n",
      "c: 10\n",
      "b is greatest\n"
     ]
    }
   ],
   "source": [
    "print(\"Enter your numbers:\")\n",
    "a=int(input(\"Enter a:\"))\n",
    "b=int(input(\"Enter b:\"))\n",
    "c=int(input(\"Enter c:\"))\n",
    "print(\"a:\",a)\n",
    "print(\"b:\",b)\n",
    "print(\"c:\",c)\n",
    "\n",
    "if a>b:\n",
    "    if a>c:\n",
    "        print(\"a is greatest\")\n",
    "    else:\n",
    "        print(\"c is greatest\")\n",
    "else:\n",
    "    print(\"b is greatest\")"
   ]
  },
  {
   "cell_type": "code",
   "execution_count": 5,
   "id": "b52ee547",
   "metadata": {},
   "outputs": [
    {
     "name": "stdout",
     "output_type": "stream",
     "text": [
      "Enter your numbers:\n",
      "a is greatest\n"
     ]
    }
   ],
   "source": [
    "print(\"Enter your numbers:\")\n",
    "a=int(input(\"Enter a:\"))\n",
    "b=int(input(\"Enter b:\"))\n",
    "c=int(input(\"Enter c:\"))\n",
    "if a>b:\n",
    "    if a>c:\n",
    "        print(\"a is greatest\")\n",
    "    else:\n",
    "        print(\"c is greatest\")\n",
    "else:\n",
    "    print(\"b is greatest\")"
   ]
  }
 ],
 "metadata": {
  "kernelspec": {
   "display_name": "Python 3",
   "language": "python",
   "name": "python3"
  },
  "language_info": {
   "codemirror_mode": {
    "name": "ipython",
    "version": 3
   },
   "file_extension": ".py",
   "mimetype": "text/x-python",
   "name": "python",
   "nbconvert_exporter": "python",
   "pygments_lexer": "ipython3",
   "version": "3.11.0"
  },
  "vscode": {
   "interpreter": {
    "hash": "d54854e463900f2ddba04b7743d71b5993ddf904aa9496106acf58328caea890"
   }
  }
 },
 "nbformat": 4,
 "nbformat_minor": 5
}
