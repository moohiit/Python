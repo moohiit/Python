{
 "cells": [
  {
   "cell_type": "markdown",
   "metadata": {},
   "source": [
    "## Sequence Data types\n",
    "\n",
    "- Strings eg: \"Hello\"\n",
    "- Tuples eg: (1, 2, 3, 4)\n",
    "- Lists eg: [2,\"H\" ,2 ,(4,5)]\n",
    "- Arrays eg: [1,2,3]"
   ]
  },
  {
   "cell_type": "code",
   "execution_count": 6,
   "metadata": {},
   "outputs": [
    {
     "name": "stdout",
     "output_type": "stream",
     "text": [
      "1\n",
      "2\n",
      "3\n",
      "4\n",
      "<class 'array.array'>\n"
     ]
    }
   ],
   "source": [
    "from array import *\n",
    "\n",
    "arrsample = array(\"i\",(1,2,3,4))\n",
    "for x in arrsample:\n",
    "    print(x)\n",
    "print(type(arrsample))"
   ]
  },
  {
   "cell_type": "code",
   "execution_count": null,
   "metadata": {},
   "outputs": [],
   "source": [
    "from tkinter import  *\n"
   ]
  }
 ],
 "metadata": {
  "kernelspec": {
   "display_name": "Python 3",
   "language": "python",
   "name": "python3"
  },
  "language_info": {
   "codemirror_mode": {
    "name": "ipython",
    "version": 3
   },
   "file_extension": ".py",
   "mimetype": "text/x-python",
   "name": "python",
   "nbconvert_exporter": "python",
   "pygments_lexer": "ipython3",
   "version": "3.11.0"
  },
  "orig_nbformat": 4
 },
 "nbformat": 4,
 "nbformat_minor": 2
}
