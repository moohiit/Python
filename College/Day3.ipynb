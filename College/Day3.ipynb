{
 "cells": [
  {
   "cell_type": "markdown",
   "metadata": {},
   "source": [
    "### While loop\n",
    "\n",
    "```python\n",
    "i=1\n",
    "while (i<=10):\n",
    "    print(\"Hello\")  \n",
    "    else: # optional else block \n",
    "        print(\"Bye!\")\n",
    "        # output : Hello\n",
    "        # output : Bye!\n",
    "\n",
    "```"
   ]
  },
  {
   "cell_type": "code",
   "execution_count": 1,
   "metadata": {},
   "outputs": [
    {
     "name": "stdout",
     "output_type": "stream",
     "text": [
      "1\n",
      "2\n",
      "3\n",
      "4\n",
      "5\n",
      "6\n",
      "7\n",
      "8\n",
      "9\n",
      "10\n"
     ]
    }
   ],
   "source": [
    "i=1\n",
    "while(i<11):\n",
    "    print(i)\n",
    "    i=i+1"
   ]
  },
  {
   "cell_type": "code",
   "execution_count": 2,
   "metadata": {},
   "outputs": [
    {
     "name": "stdout",
     "output_type": "stream",
     "text": [
      "Numbers:\n",
      "25\n",
      "25\n",
      "40\n",
      "63\n",
      "96\n",
      "25\n",
      "14\n",
      "Total :  288\n"
     ]
    }
   ],
   "source": [
    "total=0\n",
    "i=int(input(\"Enter the value of i:\"))\n",
    "print(\"Numbers:\")\n",
    "while(i!=0):\n",
    "    total=total+i\n",
    "    print(i)\n",
    "    i=int(input(\"Enter the value of i:\"))\n",
    "print(\"Total : \",total)"
   ]
  },
  {
   "cell_type": "code",
   "execution_count": null,
   "metadata": {},
   "outputs": [],
   "source": []
  }
 ],
 "metadata": {
  "kernelspec": {
   "display_name": "Python 3",
   "language": "python",
   "name": "python3"
  },
  "language_info": {
   "codemirror_mode": {
    "name": "ipython",
    "version": 3
   },
   "file_extension": ".py",
   "mimetype": "text/x-python",
   "name": "python",
   "nbconvert_exporter": "python",
   "pygments_lexer": "ipython3",
   "version": "3.11.0"
  },
  "orig_nbformat": 4
 },
 "nbformat": 4,
 "nbformat_minor": 2
}
