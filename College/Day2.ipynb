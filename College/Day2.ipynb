{
 "cells": [
  {
   "cell_type": "markdown",
   "metadata": {},
   "source": [
    "# Area of circle"
   ]
  },
  {
   "cell_type": "code",
   "execution_count": 2,
   "metadata": {},
   "outputs": [
    {
     "name": "stdout",
     "output_type": "stream",
     "text": [
      "Area of circle: 78.5\n"
     ]
    }
   ],
   "source": [
    "r=int(input(\"Radius:\"))\n",
    "print(\"Area of circle:\",3.14*r*r)"
   ]
  },
  {
   "cell_type": "markdown",
   "metadata": {},
   "source": [
    "## Area of cuboid"
   ]
  },
  {
   "cell_type": "code",
   "execution_count": 3,
   "metadata": {},
   "outputs": [
    {
     "name": "stdout",
     "output_type": "stream",
     "text": [
      "Area of cuboid: 152\n"
     ]
    }
   ],
   "source": [
    "l=int(input(\"Length:\"))\n",
    "b=int(input(\"breadth:\"))\n",
    "h=int(input(\"hieght:\"))\n",
    "\n",
    "print(\"Area of cuboid:\",2*(l*b+b*h+h*l))"
   ]
  },
  {
   "cell_type": "markdown",
   "metadata": {},
   "source": [
    "Area of cube"
   ]
  },
  {
   "cell_type": "code",
   "execution_count": null,
   "metadata": {},
   "outputs": [],
   "source": []
  },
  {
   "cell_type": "code",
   "execution_count": 1,
   "metadata": {},
   "outputs": [],
   "source": [
    "#Tsa\n"
   ]
  },
  {
   "cell_type": "code",
   "execution_count": 8,
   "metadata": {},
   "outputs": [
    {
     "name": "stdout",
     "output_type": "stream",
     "text": [
      "Enter two numbers:\n"
     ]
    },
    {
     "name": "stdout",
     "output_type": "stream",
     "text": [
      "b is greatest\n"
     ]
    }
   ],
   "source": [
    "print('Enter two numbers:')\n",
    "a=int(input(\"no1:\"))\n",
    "b=int(input(\"no2:\"))\n",
    "c=int(input(\"no3:\"))\n",
    "\n",
    "if(a>b):\n",
    "    if(a>c):\n",
    "        print(\"a is greater.\")\n",
    "elif (b > c) :\n",
    "    if(b>a):\n",
    "        print (\"b is greatest\")\n",
    "elif(c>a):\n",
    "    if(c>b):\n",
    "        print(\"c is greatest\")\n",
    "        "
   ]
  },
  {
   "cell_type": "code",
   "execution_count": null,
   "metadata": {},
   "outputs": [],
   "source": []
  }
 ],
 "metadata": {
  "kernelspec": {
   "display_name": "Python 3",
   "language": "python",
   "name": "python3"
  },
  "language_info": {
   "codemirror_mode": {
    "name": "ipython",
    "version": 3
   },
   "file_extension": ".py",
   "mimetype": "text/x-python",
   "name": "python",
   "nbconvert_exporter": "python",
   "pygments_lexer": "ipython3",
   "version": "3.11.0"
  },
  "orig_nbformat": 4
 },
 "nbformat": 4,
 "nbformat_minor": 2
}
