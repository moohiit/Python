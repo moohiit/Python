{
 "cells": [
  {
   "cell_type": "markdown",
   "id": "3420a6a6",
   "metadata": {},
   "source": [
    "# Assignment 2- Loops"
   ]
  },
  {
   "cell_type": "raw",
   "id": "f5767197",
   "metadata": {},
   "source": [
    "1.Create a list that is having 10,23,4,75,24,54 values and with the help of while loop,fetch\n",
    "  the even numbers and print the numbers"
   ]
  },
  {
   "cell_type": "code",
   "execution_count": 8,
   "id": "15f732a4",
   "metadata": {},
   "outputs": [
    {
     "name": "stdout",
     "output_type": "stream",
     "text": [
      "10\n",
      "4\n",
      "24\n",
      "54\n"
     ]
    }
   ],
   "source": [
    "# By using while loop:\n",
    "list1=[10,23,4,75,24,54]\n",
    "l=len(list1)\n",
    "i=0\n",
    "while i<l:\n",
    "    if list1[i]%2==0:\n",
    "        print(list1[i])\n",
    "    i+=1\n",
    "        \n",
    "\n",
    "    \n",
    "    "
   ]
  },
  {
   "cell_type": "code",
   "execution_count": 7,
   "id": "cef0d8b7",
   "metadata": {},
   "outputs": [
    {
     "name": "stdout",
     "output_type": "stream",
     "text": [
      "10\n",
      "4\n",
      "24\n",
      "54\n"
     ]
    }
   ],
   "source": [
    "#By using for loop:\n",
    "list1=[10,23,4,75,24,54]\n",
    "l=len(list1)\n",
    "for j in range(0,l):\n",
    "    if list1[j]%2==0:\n",
    "        print(list1[j])\n"
   ]
  },
  {
   "cell_type": "code",
   "execution_count": 1,
   "id": "49ccae0e",
   "metadata": {},
   "outputs": [
    {
     "name": "stdout",
     "output_type": "stream",
     "text": [
      "10\n",
      "4\n",
      "24\n",
      "54\n"
     ]
    }
   ],
   "source": [
    "list1 = [10,23,4,75,24,54]\n",
    "\n",
    "for ele in list1:\n",
    "    if ele%2==0:\n",
    "        print(ele)"
   ]
  },
  {
   "cell_type": "code",
   "execution_count": null,
   "id": "2621be0c",
   "metadata": {},
   "outputs": [],
   "source": []
  },
  {
   "cell_type": "code",
   "execution_count": null,
   "id": "3f4f405c",
   "metadata": {},
   "outputs": [],
   "source": [
    "\n"
   ]
  },
  {
   "cell_type": "code",
   "execution_count": null,
   "id": "c45c236c",
   "metadata": {},
   "outputs": [],
   "source": []
  },
  {
   "cell_type": "code",
   "execution_count": null,
   "id": "fce72f16",
   "metadata": {},
   "outputs": [],
   "source": []
  }
 ],
 "metadata": {
  "kernelspec": {
   "display_name": "Python 3 (ipykernel)",
   "language": "python",
   "name": "python3"
  },
  "language_info": {
   "codemirror_mode": {
    "name": "ipython",
    "version": 3
   },
   "file_extension": ".py",
   "mimetype": "text/x-python",
   "name": "python",
   "nbconvert_exporter": "python",
   "pygments_lexer": "ipython3",
   "version": "3.11.0"
  }
 },
 "nbformat": 4,
 "nbformat_minor": 5
}
