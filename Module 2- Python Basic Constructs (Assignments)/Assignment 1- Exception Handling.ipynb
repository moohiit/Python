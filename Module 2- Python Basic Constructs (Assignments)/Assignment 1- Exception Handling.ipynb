{
 "cells": [
  {
   "cell_type": "markdown",
   "metadata": {},
   "source": [
    "# Tasks to be performed:\n"
   ]
  },
  {
   "cell_type": "markdown",
   "metadata": {},
   "source": [
    "1. With the help of try and inbuilt exception, display the exception.\n",
    "2. Take two user inputs and pass those input variables in a try block. If the user input is 0, then \n",
    "throw the ZeroDivisionError exception.\n",
    "3. Import math package and with the help of math package, print – math.exp(50000). Now use \n",
    "the inbuilt OverflowError exception on the math.exp(), and print the exception.\n",
    "4. Now install the ‘termcolor’ package in the anaconda prompt, and import that package to \n",
    "provide the colors to the print statement in Jupyter Notebook.\n",
    "5. Create your own exception with the help of class and functions"
   ]
  },
  {
   "cell_type": "markdown",
   "metadata": {},
   "source": [
    "### 1. With the help of try and inbuilt exception, display the exception."
   ]
  },
  {
   "cell_type": "code",
   "execution_count": 1,
   "metadata": {},
   "outputs": [
    {
     "name": "stdout",
     "output_type": "stream",
     "text": [
      "Module 1- Getting Started With Python\n",
      "888\n"
     ]
    }
   ],
   "source": [
    "try:\n",
    "    a=int(input(\"Vallue of A:\"))\n",
    "    b=int(input(\"Value of B:\"))\n",
    "    print(\"Module 1- Getting Started With Python\")\n",
    "    c=b+a\n",
    "    print(c)\n",
    "except Exception as e:\n",
    "    print(\"program is still safe\")    \n"
   ]
  },
  {
   "cell_type": "code",
   "execution_count": 2,
   "metadata": {},
   "outputs": [
    {
     "name": "stdout",
     "output_type": "stream",
     "text": [
      "Module 1- Getting Started With Python\n",
      "555\n"
     ]
    }
   ],
   "source": [
    "try:\n",
    "    a=int(input(\"Vallue of A:\"))\n",
    "    b=int(input(\"Value of B:\"))\n",
    "    print(\"Module 1- Getting Started With Python\")\n",
    "    c=b+a\n",
    "    print(c)\n",
    "except Exception as e:\n",
    "    print(\"program is still safe\")    \n"
   ]
  },
  {
   "cell_type": "markdown",
   "metadata": {},
   "source": [
    "2.Take two user inputs and pass those input variables in a try block. If the user input is 0, then \n",
    "throw the ZeroDivisionError exception."
   ]
  },
  {
   "cell_type": "code",
   "execution_count": 3,
   "metadata": {},
   "outputs": [
    {
     "name": "stdout",
     "output_type": "stream",
     "text": [
      "1.0\n"
     ]
    }
   ],
   "source": [
    "try:\n",
    "    a=int(input(\"Value A:\"))\n",
    "    b=int(input(\"Value B:\"))\n",
    "    division=a/b \n",
    "    print(division)\n",
    "except ZeroDivisionError as e:\n",
    "    print(\"ZeroDivisionError Found\")\n",
    "    print(\"Now Program is out of error\")\n",
    "\n",
    "\n"
   ]
  },
  {
   "cell_type": "markdown",
   "metadata": {},
   "source": [
    "3. Import math package and with the help of math package, print – math.exp(50000). Now use \n",
    "the inbuilt OverflowError exception on the math.exp(), and print the exception."
   ]
  },
  {
   "cell_type": "code",
   "execution_count": 4,
   "metadata": {},
   "outputs": [
    {
     "name": "stdout",
     "output_type": "stream",
     "text": [
      "4.169293549452358e+144\n"
     ]
    }
   ],
   "source": [
    "import math\n",
    "\n",
    "val = int(input(\"Enter a number: \"))\n",
    "try:\n",
    "    ans = math.exp(val)\n",
    "    print(ans)\n",
    "except OverflowError:\n",
    "    print(\"math.exp(\",val,\") is too big to calculate\")\n",
    "    print(\"Overflow Error has occurred !\")\n"
   ]
  },
  {
   "cell_type": "markdown",
   "metadata": {},
   "source": [
    "4. Now install the ‘termcolor’ package in the anaconda prompt, and import that package to \n",
    "provide the colors to the print statement in Jupyter Notebook."
   ]
  },
  {
   "cell_type": "code",
   "execution_count": 2,
   "metadata": {},
   "outputs": [
    {
     "name": "stdout",
     "output_type": "stream",
     "text": [
      "Collecting termcolor\n",
      "  Downloading termcolor-2.2.0-py3-none-any.whl (6.6 kB)\n",
      "Installing collected packages: termcolor\n",
      "Successfully installed termcolor-2.2.0\n",
      "Note: you may need to restart the kernel to use updated packages.\n",
      "\u001b[32mThis is red colored statement in the output\u001b[0m\n",
      "\u001b[97mNow will type it into white color\u001b[0m\n",
      "\u001b[31mNow making it like tricolor\u001b[0m\n"
     ]
    }
   ],
   "source": [
    "%pip install termcolor\n",
    "import termcolor\n",
    "termcolor.cprint('This is red colored statement in the output','green')\n",
    "termcolor.cprint('Now will type it into white color','white')\n",
    "termcolor.cprint('Now making it like tricolor','red')"
   ]
  },
  {
   "cell_type": "markdown",
   "metadata": {},
   "source": [
    "5. Create your own exception with the help of class and functions"
   ]
  },
  {
   "cell_type": "code",
   "execution_count": 3,
   "metadata": {},
   "outputs": [],
   "source": [
    "class exphand():\n",
    "    def funct1(self,a,b):\n",
    "        try:\n",
    "            print('I initiated this program to run this code')\n",
    "            v=a/b\n",
    "            print(v)\n",
    "        except Exception as e:\n",
    "            print (\"There is an error in the code .\")\n",
    "            termcolor.cprint(\"Don't worry i managed to handle it.\",'yellow')"
   ]
  },
  {
   "cell_type": "code",
   "execution_count": 5,
   "metadata": {},
   "outputs": [
    {
     "name": "stdout",
     "output_type": "stream",
     "text": [
      "I initiated this program to run this code\n",
      "There is an error in the code .\n",
      "\u001b[33mDon't worry i managed to handle it.\u001b[0m\n"
     ]
    }
   ],
   "source": [
    "obj=exphand()\n",
    "obj.funct1(3,0)"
   ]
  },
  {
   "cell_type": "markdown",
   "metadata": {},
   "source": [
    "It will give you an error because there is a argument is missing."
   ]
  },
  {
   "cell_type": "code",
   "execution_count": 8,
   "metadata": {},
   "outputs": [
    {
     "ename": "TypeError",
     "evalue": "exphand.funct1() missing 1 required positional argument: 'b'",
     "output_type": "error",
     "traceback": [
      "\u001b[1;31m---------------------------------------------------------------------------\u001b[0m",
      "\u001b[1;31mTypeError\u001b[0m                                 Traceback (most recent call last)",
      "Cell \u001b[1;32mIn[8], line 1\u001b[0m\n\u001b[1;32m----> 1\u001b[0m obj\u001b[39m.\u001b[39;49mfunct1(\u001b[39m2\u001b[39;49m) \n",
      "\u001b[1;31mTypeError\u001b[0m: exphand.funct1() missing 1 required positional argument: 'b'"
     ]
    }
   ],
   "source": [
    "obj.funct1(2) "
   ]
  },
  {
   "cell_type": "markdown",
   "metadata": {},
   "source": [
    "Here using exception Handling i managed to run further coding without breakdown in the program\n"
   ]
  },
  {
   "cell_type": "code",
   "execution_count": 9,
   "metadata": {},
   "outputs": [
    {
     "name": "stdout",
     "output_type": "stream",
     "text": [
      "program is still running\n"
     ]
    }
   ],
   "source": [
    "try:\n",
    "    obj.funct1(2)\n",
    "except Exception as e:\n",
    "    print('program is still running')"
   ]
  },
  {
   "cell_type": "code",
   "execution_count": null,
   "metadata": {},
   "outputs": [],
   "source": []
  }
 ],
 "metadata": {
  "kernelspec": {
   "display_name": "Python 3.9.12 ('base')",
   "language": "python",
   "name": "python3"
  },
  "language_info": {
   "codemirror_mode": {
    "name": "ipython",
    "version": 3
   },
   "file_extension": ".py",
   "mimetype": "text/x-python",
   "name": "python",
   "nbconvert_exporter": "python",
   "pygments_lexer": "ipython3",
   "version": "3.11.0"
  },
  "orig_nbformat": 4,
  "vscode": {
   "interpreter": {
    "hash": "0047bc61666b17e61f1039988b004b5a2665927427600c9d3424f6f42a099518"
   }
  }
 },
 "nbformat": 4,
 "nbformat_minor": 2
}
