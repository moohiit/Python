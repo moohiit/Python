{
 "cells": [
  {
   "cell_type": "markdown",
   "metadata": {},
   "source": [
    "1. Create a function named ‘factor’ that can only accepts 1 argument. The function should \n",
    "return the factorial of that number.\n",
    "2. Create a function named ‘check_string’, the function should accept a string data from the \n",
    "user and the function should check if the user input contains the letter ‘s’ in it. If it contains \n",
    "the letter ‘s’ then print- ‘The string is containing the letter ‘s’’, if not then print- ‘The string \n",
    "doesn’t contain the letter ‘s’’.\n",
    "3. Create a class named ‘student’ and inside the class, create a function named ‘fun1’- this \n",
    "method should accepts the user defined input and return that value.\n",
    "a. Create another method named- message() and that method should print the user \n",
    "defined input that we have defined in ‘fun1’.\n",
    "4. Create a lambda function that should double or multiply the number (that we will be passing \n",
    "in the lambda function) by 2. Store the lambda function in a variable named ‘double_num’.\n",
    "5. Take user input string and check whether that string is palindrome or not"
   ]
  },
  {
   "cell_type": "markdown",
   "metadata": {},
   "source": [
    "1. Create a function named ‘factor’ that can only accepts 1 argument. The function should \n",
    "return the factorial of that number."
   ]
  },
  {
   "cell_type": "code",
   "execution_count": 1,
   "metadata": {},
   "outputs": [],
   "source": [
    "import math\n",
    "def factor(x):\n",
    "    b=math.factorial(x)\n",
    "    print(\"Factorial of\",x,\"is:\",b)\n"
   ]
  },
  {
   "cell_type": "code",
   "execution_count": 38,
   "metadata": {},
   "outputs": [
    {
     "name": "stdout",
     "output_type": "stream",
     "text": [
      "Factorial of 5 is: 120\n"
     ]
    }
   ],
   "source": [
    "factor(5)"
   ]
  },
  {
   "cell_type": "markdown",
   "metadata": {},
   "source": [
    "2. Create a function named ‘check_string’, the function should accept a string data from the \n",
    "user and the function should check if the user input contains the letter ‘s’ in it. If it contains \n",
    "the letter ‘s’ then print- ‘The string is containing the letter ‘s’’, if not then print- ‘The string \n",
    "doesn’t contain the letter ‘s’’."
   ]
  },
  {
   "cell_type": "code",
   "execution_count": 5,
   "metadata": {},
   "outputs": [],
   "source": [
    "def check_string():\n",
    "    string=str(input(\"String:\"))\n",
    "    for i in string:\n",
    "        if i==\"s\":\n",
    "            print('String:',string)\n",
    "            print('string containing the letter S')\n",
    "            break\n",
    "    else:\n",
    "        print('String:',string)\n",
    "        print(\"The string doesn't contain the letter S\")"
   ]
  },
  {
   "cell_type": "code",
   "execution_count": 6,
   "metadata": {},
   "outputs": [
    {
     "name": "stdout",
     "output_type": "stream",
     "text": [
      "String: hello\n",
      "The string doesn't contain the letter S\n"
     ]
    }
   ],
   "source": [
    "check_string()"
   ]
  },
  {
   "cell_type": "code",
   "execution_count": 46,
   "metadata": {},
   "outputs": [
    {
     "name": "stdout",
     "output_type": "stream",
     "text": [
      "String: ramesh\n",
      "string containing the letter S\n"
     ]
    }
   ],
   "source": [
    "check_string()"
   ]
  },
  {
   "cell_type": "markdown",
   "metadata": {},
   "source": [
    "3. Create a class named ‘student’ and inside the class, create a function named ‘fun1’- this \n",
    "method should accepts the user defined input and return that value.\n",
    "\n",
    "  a. Create another method named- message() and that method should print the user \n",
    "defined input that we have defined in ‘fun1’."
   ]
  },
  {
   "cell_type": "code",
   "execution_count": 7,
   "metadata": {},
   "outputs": [
    {
     "name": "stdout",
     "output_type": "stream",
     "text": [
      "Function2 Has been called\n",
      "4569\n",
      "Hello\n"
     ]
    }
   ],
   "source": [
    "\n",
    "def fun1():\n",
    "    fun1.var=int(input('User input:'))\n",
    "    fun1.var1=str(input(\"Any string value:\"))\n",
    "def message():\n",
    "    print(\"Function2 Has been called\")\n",
    "    print(fun1.var)\n",
    "    print(fun1.var1)\n",
    "\n",
    "fun1()\n",
    "message()\n"
   ]
  },
  {
   "cell_type": "markdown",
   "metadata": {},
   "source": [
    "4. Create a lambda function that should double or multiply the number (that we will be passing \n",
    "in the lambda function) by 2. Store the lambda function in a variable named ‘double_num’.\n"
   ]
  },
  {
   "cell_type": "code",
   "execution_count": 8,
   "metadata": {},
   "outputs": [
    {
     "name": "stdout",
     "output_type": "stream",
     "text": [
      "double of number is 10\n"
     ]
    }
   ],
   "source": [
    "double_num=lambda x:x*2\n",
    "a=double_num(5)\n",
    "print('double of number is',a)"
   ]
  },
  {
   "cell_type": "markdown",
   "metadata": {},
   "source": [
    "5. Take user input string and check whether that string is palindrome or not"
   ]
  },
  {
   "cell_type": "code",
   "execution_count": 10,
   "metadata": {},
   "outputs": [
    {
     "name": "stdout",
     "output_type": "stream",
     "text": [
      "str: dalad\n",
      "Yes: it is a palindrome\n"
     ]
    }
   ],
   "source": [
    "# function to check string is\n",
    "# palindrome or not\n",
    "def isPalindrome(str):\n",
    "\n",
    "\t# Run loop from 0 to len/2\n",
    "\tfor i in range(0, int(len(str)/2)):\n",
    "\t\tif str[i] != str[len(str)-i-1]:\n",
    "\t\t\treturn False\n",
    "\treturn True\n",
    "\n",
    "# main function\n",
    "s = str(input())\n",
    "print('str:',s)\n",
    "ans = isPalindrome(s)\n",
    "\n",
    "if (ans):\n",
    "\tprint(\"Yes: it is a palindrome\")\n",
    "else:\n",
    "\tprint(\"No: it is not a palindrome\")\n"
   ]
  },
  {
   "cell_type": "code",
   "execution_count": null,
   "metadata": {},
   "outputs": [],
   "source": [
    "dalad"
   ]
  }
 ],
 "metadata": {
  "kernelspec": {
   "display_name": "Python 3.9.12 ('base')",
   "language": "python",
   "name": "python3"
  },
  "language_info": {
   "codemirror_mode": {
    "name": "ipython",
    "version": 3
   },
   "file_extension": ".py",
   "mimetype": "text/x-python",
   "name": "python",
   "nbconvert_exporter": "python",
   "pygments_lexer": "ipython3",
   "version": "3.11.0"
  },
  "orig_nbformat": 4,
  "vscode": {
   "interpreter": {
    "hash": "0047bc61666b17e61f1039988b004b5a2665927427600c9d3424f6f42a099518"
   }
  }
 },
 "nbformat": 4,
 "nbformat_minor": 2
}
