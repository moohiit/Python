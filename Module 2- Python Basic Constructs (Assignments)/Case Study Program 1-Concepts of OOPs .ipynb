{
 "cells": [
  {
   "cell_type": "markdown",
   "metadata": {},
   "source": [
    "# Tasks to be performed: \n"
   ]
  },
  {
   "cell_type": "markdown",
   "metadata": {},
   "source": [
    "  \n",
    "1. Create a class names Employee, with a constructor ‘__init__’  method that accepts name and \n",
    "salary as parameters and set properties named name and salary. \n"
   ]
  },
  {
   "cell_type": "code",
   "execution_count": 5,
   "metadata": {},
   "outputs": [
    {
     "name": "stdout",
     "output_type": "stream",
     "text": [
      "Name: mohit\n",
      "Salary: 20000\n"
     ]
    }
   ],
   "source": [
    "class Employee():\n",
    "    def __init__(self,name,salary):\n",
    "        self.name=name \n",
    "        self.salary=salary\n",
    "    def emp_details(self):\n",
    "        n=self.name\n",
    "        s=self.salary\n",
    "        print(\"Name:\",n)\n",
    "        print(\"Salary:\",s)\n",
    "\n",
    "#Creating Object:\n",
    "o=Employee(\"mohit\",20000)\n",
    "o.emp_details()\n",
    "\n",
    "        "
   ]
  },
  {
   "cell_type": "markdown",
   "metadata": {},
   "source": [
    "2. Define __str__ method in Employee class so that when someone tries to print the object the \n",
    "string Name: employee_name, Salary: employee_salary is printed with the actual employee \n",
    "name and salary. \n"
   ]
  },
  {
   "cell_type": "code",
   "execution_count": 6,
   "metadata": {},
   "outputs": [
    {
     "name": "stdout",
     "output_type": "stream",
     "text": [
      "Name: mohit\n",
      "Salary: 20000\n"
     ]
    }
   ],
   "source": [
    "class Employee():\n",
    "    def __init__(self,name,salary):\n",
    "        self.name=name \n",
    "        self.salary=salary\n",
    "    def str(self):\n",
    "        n=self.name\n",
    "        s=self.salary\n",
    "        print(\"Name:\",n)\n",
    "        print(\"Salary:\",s)\n",
    "\n",
    "\n",
    "#Creating Object:\n",
    "o=Employee(\"mohit\",20000)\n",
    "o.str()"
   ]
  },
  {
   "cell_type": "markdown",
   "metadata": {},
   "source": [
    "3. Create another class named Calculator, with methods to add, subtract, multiply and divide two \n",
    "numbers.\n",
    "* These methods take two numbers as parameters. \n",
    "* These methods will be called by method named execute command. \n",
    "* Execute command takes in 3 parameters command which is string that can be either ‘add’, ‘sub’, \n",
    "‘mul’, ‘div’, and two numbers and it will call the appropriate method based on command \n",
    "parameter.\n"
   ]
  },
  {
   "cell_type": "code",
   "execution_count": 1,
   "metadata": {},
   "outputs": [],
   "source": [
    "class calculator():\n",
    "    def add(self,a,b):\n",
    "        a=print(\"Addition of\",a,\"and\",b,\"is:\",a+b)\n",
    "        return a\n",
    "    def subtract(self,a,b):\n",
    "        s=print(\"Subtration of\",a,\"and\",b,\"is:\",a-b)\n",
    "        return s\n",
    "    def multiply(self,a,b):\n",
    "        m=print(\"Multiplication of\",a,\"and\",b,\"is:\",a*b)\n",
    "        return m\n",
    "    def divide(self,a,b):\n",
    "        d=print(\"Diivision of\",a,\"and\",b,\"is:\",a/b)\n",
    "        return d\n",
    "    def remainder(self,a,b):\n",
    "        r=print(\"Remainder of\",a,\"when divided by\",b,\"is:\",a%b)\n",
    "        return r"
   ]
  },
  {
   "cell_type": "code",
   "execution_count": 2,
   "metadata": {},
   "outputs": [
    {
     "name": "stdout",
     "output_type": "stream",
     "text": [
      "Addition of 5 and 4 is: 9\n",
      "Subtration of 56 and 23 is: 33\n",
      "Multiplication of 12 and 3 is: 36\n",
      "Diivision of 12 and 6 is: 2.0\n",
      "Remainder of 45 when divided by 6 is: 3\n"
     ]
    }
   ],
   "source": [
    "calc=calculator()\n",
    "calc.add(5,4)\n",
    "calc.subtract(56,23)\n",
    "calc.multiply(12,3)\n",
    "calc.divide(12,6)\n",
    "calc.remainder(45,6)"
   ]
  },
  {
   "cell_type": "code",
   "execution_count": null,
   "metadata": {},
   "outputs": [],
   "source": []
  }
 ],
 "metadata": {
  "kernelspec": {
   "display_name": "Python 3.9.12 ('base')",
   "language": "python",
   "name": "python3"
  },
  "language_info": {
   "codemirror_mode": {
    "name": "ipython",
    "version": 3
   },
   "file_extension": ".py",
   "mimetype": "text/x-python",
   "name": "python",
   "nbconvert_exporter": "python",
   "pygments_lexer": "ipython3",
   "version": "3.11.0"
  },
  "orig_nbformat": 4,
  "vscode": {
   "interpreter": {
    "hash": "0047bc61666b17e61f1039988b004b5a2665927427600c9d3424f6f42a099518"
   }
  }
 },
 "nbformat": 4,
 "nbformat_minor": 2
}
