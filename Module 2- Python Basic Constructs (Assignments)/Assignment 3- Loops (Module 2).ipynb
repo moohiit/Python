{
 "cells": [
  {
   "cell_type": "markdown",
   "id": "55577272",
   "metadata": {},
   "source": [
    "# Assignment 3- Loops"
   ]
  },
  {
   "cell_type": "raw",
   "id": "a1398ea7",
   "metadata": {},
   "source": [
    "1.Create an array that is having user defined inputs and with the help of for loop, fetch all the prime numbers and print the numbers."
   ]
  },
  {
   "cell_type": "code",
   "execution_count": 1,
   "id": "c96d31d3",
   "metadata": {},
   "outputs": [
    {
     "name": "stdout",
     "output_type": "stream",
     "text": [
      "Array:  [4, 7, 9, 2, 3]\n",
      "prime no. list:  [7, 2, 3]\n"
     ]
    }
   ],
   "source": [
    "array=[]\n",
    "n=int(input(\"Define the length of array: \"))\n",
    "for i in range(n):\n",
    "    a=int(input(\"Enter the value: \"))\n",
    "    array.append(a)\n",
    "print(\"Array: \",array)\n",
    "# for a number is prime or not:\n",
    "l=len(array)\n",
    "prime=[]\n",
    "\n",
    "for j in range(0,l):\n",
    "    c=0\n",
    "    for k in range(2,array[j]):\n",
    "        if array[j]%k==0:\n",
    "            c=1\n",
    "            break\n",
    "    if c==0:\n",
    "        prime.append(array[j])\n",
    "print(\"prime no. list: \",prime)"
   ]
  },
  {
   "cell_type": "code",
   "execution_count": 2,
   "id": "445fed01",
   "metadata": {},
   "outputs": [
    {
     "name": "stdout",
     "output_type": "stream",
     "text": [
      "Enter the length of array: \n",
      "10\n",
      "Array :  [52, 32, 11, 13, 48, 56, 55, 71, 96, 31]\n",
      "Prime number list :  [11, 13, 71, 31]\n"
     ]
    }
   ],
   "source": [
    "array =[]\n",
    "print(\"Enter the length of array: \")\n",
    "n=int(input(\"Enter the value :\"))\n",
    "print(n)\n",
    "for i in range(n):\n",
    "    a=int(input(\"a[{}]\".format(i)))\n",
    "    array.append(a)\n",
    "\n",
    "print(\"Array : \",array)\n",
    "\n",
    "#printing the prime numbers \n",
    "prime = []\n",
    "for i in range(len(array)):\n",
    "    flag = 0\n",
    "    for j in range(2,array[i]):\n",
    "        if array[i]%j==0:\n",
    "            flag = 1\n",
    "    if flag == 0:\n",
    "        prime.append(array[i])\n",
    "\n",
    "print(\"Prime number list : \",prime)   "
   ]
  },
  {
   "cell_type": "code",
   "execution_count": null,
   "id": "2f314ab5",
   "metadata": {},
   "outputs": [],
   "source": []
  }
 ],
 "metadata": {
  "kernelspec": {
   "display_name": "Python 3 (ipykernel)",
   "language": "python",
   "name": "python3"
  },
  "language_info": {
   "codemirror_mode": {
    "name": "ipython",
    "version": 3
   },
   "file_extension": ".py",
   "mimetype": "text/x-python",
   "name": "python",
   "nbconvert_exporter": "python",
   "pygments_lexer": "ipython3",
   "version": "3.11.0"
  }
 },
 "nbformat": 4,
 "nbformat_minor": 5
}
