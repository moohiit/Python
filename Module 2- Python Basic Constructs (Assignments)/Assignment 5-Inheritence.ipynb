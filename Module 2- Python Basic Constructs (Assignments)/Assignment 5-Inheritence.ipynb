{
 "cells": [
  {
   "cell_type": "markdown",
   "metadata": {},
   "source": [
    "# Tasks to be performed: \n"
   ]
  },
  {
   "cell_type": "markdown",
   "metadata": {},
   "source": [
    " \n",
    "1. Create a class named parent_Class and inside the class, initialize a global variable num as 10. \n",
    "* Create another class named child_Class and this class should be inherited from the \n",
    "parent class. \n",
    "* Now create an object for the child_Class and with the help of child_Class object, display \n",
    "the value of ‘num’. "
   ]
  },
  {
   "cell_type": "code",
   "execution_count": 1,
   "metadata": {},
   "outputs": [
    {
     "name": "stdout",
     "output_type": "stream",
     "text": [
      "this is the function of child class\n",
      "This is the function of parent class 45\n",
      "This is the function of parent class 45\n"
     ]
    }
   ],
   "source": [
    "class fruit():  #parent class\n",
    "    def __init__(self):\n",
    "        self.p=\"fruits\"\n",
    "    def fun1(self):\n",
    "        print(\"This is the function of parent class\",self.p)\n",
    "class child(fruit):  #child class\n",
    "    def __init__(self):\n",
    "        super().__init__()# super function: to call any kind of properties from your parent class to child class\n",
    "                            # calling the constructor of parent to child class\n",
    "       # fruit.__init__(self) (other way to call the constructor of parent class)   \n",
    "    def fun2(self):\n",
    "        print(\"this is the function of child class\")\n",
    "        self.p=45\n",
    "        self.fun1()\n",
    "object1=child()   # object for child class (for inheritence)\n",
    "object1.fun2()\n",
    "object1.fun1()"
   ]
  },
  {
   "cell_type": "code",
   "execution_count": 11,
   "metadata": {},
   "outputs": [
    {
     "name": "stdout",
     "output_type": "stream",
     "text": [
      "This is the function of parent class \n",
      "Num: 10\n",
      "This is the function2 of child class\n",
      "This is the function of parent class \n",
      "Num: 10\n"
     ]
    }
   ],
   "source": [
    "class parent():\n",
    "    def __init__(self):\n",
    "        self.num=10\n",
    "    def fun1(self):\n",
    "        print(\"This is the function of parent class \")\n",
    "        print(\"Num:\",self.num)\n",
    "class child(parent):\n",
    "    def __init__(self):\n",
    "        super().__init__()\n",
    "    def fun2(self):\n",
    "        print(\"This is the function2 of child class\")\n",
    "        self.fun1()\n",
    "\n",
    "\n",
    "obj=child()  # Object of Child class\n",
    "obj.fun1()   # Inheriting the fun1 from parent class into chlid class object\n",
    "obj.fun2()"
   ]
  },
  {
   "cell_type": "code",
   "execution_count": 13,
   "metadata": {},
   "outputs": [
    {
     "name": "stdout",
     "output_type": "stream",
     "text": [
      "This is the function of parent class\n",
      "Num:  10\n",
      "This is the function 2 of child class\n",
      "This is the function of parent class\n",
      "Num:  10\n"
     ]
    },
    {
     "data": {
      "text/plain": [
       "10"
      ]
     },
     "execution_count": 13,
     "metadata": {},
     "output_type": "execute_result"
    }
   ],
   "source": [
    "class parent():\n",
    "    def __init__(self):\n",
    "        self.num = 10\n",
    "    def fun1(self):\n",
    "        print(\"This is the function of parent class\")\n",
    "        print(\"Num: \",self.num)\n",
    "\n",
    "class child(parent):\n",
    "    def __init__(self):\n",
    "        super().__init__()\n",
    "        # parent.__init__(self)\n",
    "    def fun2(self):\n",
    "        print(\"This is the function 2 of child class\")\n",
    "        self.fun1()\n",
    "obj = child()\n",
    "obj.fun1()\n",
    "obj.fun2()\n",
    "obj.num"
   ]
  },
  {
   "attachments": {},
   "cell_type": "markdown",
   "metadata": {},
   "source": [
    "\n",
    "\n",
    "2. Create three class named A, B, and C. \n",
    "* Inside the A class, create a constructor. Inside the constructor, initilize 2 global variables- name and age. \n",
    "* After initializing the global variables inside the constructor, now create a funtion named \n",
    "‘details’ and that function should return the ‘name’ variable. \n",
    "* Inside the B class, create a constructor. Inside the contructor, initialize 2 global veriables- name and id. \n",
    "* After initializing the global variables inside the constructor, now create a funtion named \n",
    "‘details’ and that function should return the ‘name’ variable. \n",
    "* The C class should inherit from class A, and B. Inside the class C, create a constructor, and inside the constructor, call the contructor of class A. \n",
    "* Now, create a method inside the class C, as get_details, and this fucntion should return the vaue of name. \n",
    "* Atlast, create an object of class C, and with the help of the object, call the get_details()."
   ]
  },
  {
   "cell_type": "code",
   "execution_count": 19,
   "metadata": {},
   "outputs": [
    {
     "name": "stdout",
     "output_type": "stream",
     "text": [
      "ThiS is from Class A\n",
      "Name: Mohit \n",
      " Age: 27\n",
      "This from Class B\n",
      "Name Arun \n",
      " Id: 102\n"
     ]
    },
    {
     "data": {
      "text/plain": [
       "102"
      ]
     },
     "execution_count": 19,
     "metadata": {},
     "output_type": "execute_result"
    }
   ],
   "source": [
    "#Creating class named A:\n",
    "class A():\n",
    "    def __init__(self):\n",
    "        self.name=\"Mohit\"\n",
    "        self.age=27\n",
    "        print(\"ThiS is from Class A\")\n",
    "        print(\"Name:\",self.name,\"\\n\",\"Age:\",self.age)\n",
    "    def Details(self):\n",
    "        return self.name\n",
    "class B():\n",
    "    def __init__(self):\n",
    "        self.name=\"Arun\"\n",
    "        self.Id=102\n",
    "        print(\"This from Class B\")\n",
    "        print(\"Name\",self.name,\"\\n\",\"Id:\",self.Id)\n",
    "    def Details(self):\n",
    "        return self.name\n",
    "class C(B,A):\n",
    "    def __init__(self):\n",
    "        A.__init__(self)\n",
    "        B.__init__(self)\n",
    "    def get_details(self):\n",
    "        return self.Id\n",
    "\n",
    "object1=C()\n",
    "object1.Details()\n",
    "object1.get_details()\n",
    "\n",
    "\n"
   ]
  },
  {
   "cell_type": "code",
   "execution_count": 20,
   "metadata": {},
   "outputs": [
    {
     "data": {
      "text/plain": [
       "'Arun'"
      ]
     },
     "execution_count": 20,
     "metadata": {},
     "output_type": "execute_result"
    }
   ],
   "source": [
    "object1.Details()"
   ]
  },
  {
   "cell_type": "code",
   "execution_count": 21,
   "metadata": {},
   "outputs": [
    {
     "data": {
      "text/plain": [
       "102"
      ]
     },
     "execution_count": 21,
     "metadata": {},
     "output_type": "execute_result"
    }
   ],
   "source": [
    "object1.get_details()"
   ]
  },
  {
   "cell_type": "code",
   "execution_count": 22,
   "metadata": {},
   "outputs": [
    {
     "name": "stdout",
     "output_type": "stream",
     "text": [
      "102\n"
     ]
    },
    {
     "data": {
      "text/plain": [
       "'Arun'"
      ]
     },
     "execution_count": 22,
     "metadata": {},
     "output_type": "execute_result"
    }
   ],
   "source": [
    "a=object1.get_details()\n",
    "print(a)\n",
    "object1.Details()"
   ]
  },
  {
   "cell_type": "code",
   "execution_count": null,
   "metadata": {},
   "outputs": [],
   "source": []
  }
 ],
 "metadata": {
  "kernelspec": {
   "display_name": "Python 3.9.12 ('base')",
   "language": "python",
   "name": "python3"
  },
  "language_info": {
   "codemirror_mode": {
    "name": "ipython",
    "version": 3
   },
   "file_extension": ".py",
   "mimetype": "text/x-python",
   "name": "python",
   "nbconvert_exporter": "python",
   "pygments_lexer": "ipython3",
   "version": "3.11.0"
  },
  "orig_nbformat": 4,
  "vscode": {
   "interpreter": {
    "hash": "0047bc61666b17e61f1039988b004b5a2665927427600c9d3424f6f42a099518"
   }
  }
 },
 "nbformat": 4,
 "nbformat_minor": 2
}
