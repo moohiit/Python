{
 "cells": [
  {
   "cell_type": "markdown",
   "metadata": {},
   "source": [
    "1. Create a class named ‘Super’ and inside that class define a user-defined function named \n",
    "fun1. \n",
    "\n",
    "* Inside the ‘fun1’ function, pass the message “This is function 1 in the Super class.” \n",
    "in the print statement."
   ]
  },
  {
   "cell_type": "code",
   "execution_count": 2,
   "metadata": {},
   "outputs": [
    {
     "name": "stdout",
     "output_type": "stream",
     "text": [
      "This is function 1 in the Super class.\n"
     ]
    }
   ],
   "source": [
    "class super():\n",
    "    def fun1(self):\n",
    "        p=print('This is function 1 in the Super class.')\n",
    "        return p\n",
    "obj=super()\n",
    "obj.fun1()"
   ]
  },
  {
   "cell_type": "markdown",
   "metadata": {},
   "source": [
    "2. Create another classed named ‘Modified_Super’ and inherit this class from the Super class. \n",
    "* Inside the Modified_Super class, create a function named ‘fun1’ and pass the \n",
    "following message inside the print statement: ‘This is function 1 in the Modified \n",
    "Super class.’ \n",
    "* Create another user-defined function named ‘fun2’ and pass the message: ‘This is \n",
    "the 2nd function from the Modified Super class’ in the print statement. \n",
    "* After that, now create an object for the Modified_Super class and call the fun1()."
   ]
  },
  {
   "cell_type": "code",
   "execution_count": 3,
   "metadata": {},
   "outputs": [
    {
     "name": "stdout",
     "output_type": "stream",
     "text": [
      "This is the Function 1 in Modified super Class\n"
     ]
    }
   ],
   "source": [
    "class modified_super():\n",
    "    def fun1(self):\n",
    "        print(\"This is the Function 1 in Modified super Class\")\n",
    "    def fun2(self):\n",
    "        print(\"This is the 2nd Function from Modified super class\")\n",
    "\n",
    "# Creating object:\n",
    "obj2=modified_super()\n",
    "obj2.fun1()"
   ]
  },
  {
   "cell_type": "markdown",
   "metadata": {},
   "source": [
    "3. Create 2 methods named ‘Hello’. In the 1st Hello method, pass only one argument and pass \n",
    "this message: ‘This function is only having 1 argument’. And in the 2nd Hello method, pass \n",
    "two arguments and pass this message: ‘This function is having 2 arguments’. \n",
    "* Try to call both the methods and analyze the output of both the methods."
   ]
  },
  {
   "cell_type": "code",
   "execution_count": 4,
   "metadata": {},
   "outputs": [],
   "source": [
    "class test():\n",
    "    def hello(self,a):\n",
    "        print('This function have only one argument',a)\n",
    "    def hello(self,a,b):\n",
    "        print('This function have two arguments:',(a,b))\n",
    "\n",
    "#Creating object:\n",
    "obj=test()\n"
   ]
  },
  {
   "cell_type": "code",
   "execution_count": 5,
   "metadata": {},
   "outputs": [
    {
     "name": "stdout",
     "output_type": "stream",
     "text": [
      "This function have two arguments: (1, 2)\n"
     ]
    }
   ],
   "source": [
    "# Calling Funtion:\n",
    "obj.hello(1,2)\n"
   ]
  },
  {
   "cell_type": "code",
   "execution_count": 6,
   "metadata": {},
   "outputs": [
    {
     "ename": "TypeError",
     "evalue": "test.hello() missing 1 required positional argument: 'b'",
     "output_type": "error",
     "traceback": [
      "\u001b[1;31m---------------------------------------------------------------------------\u001b[0m",
      "\u001b[1;31mTypeError\u001b[0m                                 Traceback (most recent call last)",
      "Cell \u001b[1;32mIn[6], line 2\u001b[0m\n\u001b[0;32m      1\u001b[0m \u001b[39m# Calling Second function:\u001b[39;00m\n\u001b[1;32m----> 2\u001b[0m obj\u001b[39m.\u001b[39;49mhello(\u001b[39m2\u001b[39;49m) \u001b[39m# this will give you an error.\u001b[39;00m\n",
      "\u001b[1;31mTypeError\u001b[0m: test.hello() missing 1 required positional argument: 'b'"
     ]
    }
   ],
   "source": [
    "# Calling Second function:\n",
    "obj.hello(2) # this will give you an error.\n",
    "\n"
   ]
  },
  {
   "cell_type": "markdown",
   "metadata": {},
   "source": [
    "4. Create a method named ‘Sum’ that can accept multiple user inputs. Now add those user-\n",
    "defined input values using for loop and the function should return the addition of the \n",
    "numbers. \n"
   ]
  },
  {
   "cell_type": "code",
   "execution_count": 7,
   "metadata": {},
   "outputs": [],
   "source": [
    "#Defing the function:\n",
    "def sum():\n",
    "    a=int(input(\"Enter the number of element :\"))\n",
    "    sum=0\n",
    "    num=[]\n",
    "    for i in range(a):\n",
    "        x=int(input())\n",
    "        sum+=x\n",
    "        num.append(x)\n",
    "    print(\"Number list:\",num)\n",
    "    return print(\"Sum of numbers:\",sum)\n"
   ]
  },
  {
   "cell_type": "code",
   "execution_count": 8,
   "metadata": {},
   "outputs": [
    {
     "name": "stdout",
     "output_type": "stream",
     "text": [
      "Number list: [2, 6, 8, 5, 6]\n",
      "Sum of numbers: 27\n"
     ]
    }
   ],
   "source": [
    "# Calling the function for doing the sum of the values:\n",
    "sum()"
   ]
  },
  {
   "cell_type": "markdown",
   "metadata": {},
   "source": [
    "5. Create a class named ‘Encapsulation’: \n",
    "* Inside the class, first create a constructor. Inside the constructor, initialize \n",
    "originalValue variable as 10. \n",
    "*  After creating the constructor, define a function named ‘Value’ and this function \n",
    "should return the variable that we have initialized in the constructor. \n",
    "* Now create 2nd function named setValue, and pass an argument named \n",
    "‘newValue’. The task of this function will be to replace the value of the \n",
    "originalValue variable by the value of newValue variable. \n",
    " \n",
    " "
   ]
  },
  {
   "cell_type": "code",
   "execution_count": 9,
   "metadata": {},
   "outputs": [],
   "source": [
    "class Encapsulation():\n",
    "    def __init__(self):\n",
    "        self.originalValue=10\n",
    "    def value(self):\n",
    "        return self.originalValue\n",
    "    def setvalue(self,newvalue):\n",
    "        self.originalValue=newvalue\n",
    "        return self.originalValue"
   ]
  },
  {
   "cell_type": "code",
   "execution_count": 10,
   "metadata": {},
   "outputs": [
    {
     "data": {
      "text/plain": [
       "10"
      ]
     },
     "execution_count": 10,
     "metadata": {},
     "output_type": "execute_result"
    }
   ],
   "source": [
    "# Creating the object:\n",
    "ob=Encapsulation()\n",
    "ob.value()"
   ]
  },
  {
   "cell_type": "code",
   "execution_count": 11,
   "metadata": {},
   "outputs": [
    {
     "data": {
      "text/plain": [
       "15"
      ]
     },
     "execution_count": 11,
     "metadata": {},
     "output_type": "execute_result"
    }
   ],
   "source": [
    "ob.setvalue(15)"
   ]
  }
 ],
 "metadata": {
  "kernelspec": {
   "display_name": "Python 3.9.12 ('base')",
   "language": "python",
   "name": "python3"
  },
  "language_info": {
   "codemirror_mode": {
    "name": "ipython",
    "version": 3
   },
   "file_extension": ".py",
   "mimetype": "text/x-python",
   "name": "python",
   "nbconvert_exporter": "python",
   "pygments_lexer": "ipython3",
   "version": "3.11.0"
  },
  "orig_nbformat": 4,
  "vscode": {
   "interpreter": {
    "hash": "0047bc61666b17e61f1039988b004b5a2665927427600c9d3424f6f42a099518"
   }
  }
 },
 "nbformat": 4,
 "nbformat_minor": 2
}
