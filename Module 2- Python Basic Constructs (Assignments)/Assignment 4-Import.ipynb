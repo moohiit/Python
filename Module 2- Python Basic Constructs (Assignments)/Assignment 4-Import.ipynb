{
 "cells": [
  {
   "cell_type": "markdown",
   "metadata": {},
   "source": [
    "# Tasks to be performed:"
   ]
  },
  {
   "cell_type": "markdown",
   "metadata": {},
   "source": [
    " \n",
    " \n",
    "1.  Create a python file named Module.  \n",
    "* Inside the file, define 4 methods named – addition, subtraction, multiplication, and \n",
    "division. \n",
    "* Each method should only accept 2 arguments and should return the result of operation \n",
    "performed in each method. For e.g., addition() should return the sum of two arguments. \n",
    "* Save the Module file in .py format."
   ]
  },
  {
   "cell_type": "code",
   "execution_count": 1,
   "metadata": {},
   "outputs": [],
   "source": [
    "# module.py>\n",
    "\n",
    "# functions\n",
    "# def addNumbers(a, b):\n",
    "# \tprint(\"Sum is \", a + b)\n",
    "\n",
    "# def subtractNumbers(a, b):\n",
    "# \tprint(\"Difference is \", a-b)\n",
    "\n",
    "# def multiplyNumbers(a, b):\n",
    "# \tprint(\"Product is \", a * b)\n",
    "\n",
    "# def divideNumbers(a, b):\n",
    "# \tprint(\"Division is \", a / b)\n",
    "\n",
    "# def modulusNumbers(a, b):\n",
    "# \tprint(\"Remainder is \", a % b)\n"
   ]
  },
  {
   "cell_type": "markdown",
   "metadata": {},
   "source": [
    "2. Open a new python file and import the Module.py file. \n",
    "* Now call the 4 methods from the Module.py file, i.e., addition(), subtraction(), \n",
    "multiplication(), and division()."
   ]
  },
  {
   "cell_type": "code",
   "execution_count": 9,
   "metadata": {},
   "outputs": [
    {
     "name": "stdout",
     "output_type": "stream",
     "text": [
      "Sum is  7\n",
      "Difference is  22\n",
      "Product is  20\n",
      "Division is  16.666666666666668\n",
      "Remainder is  1\n"
     ]
    }
   ],
   "source": [
    "\n",
    "# importing all the\n",
    "# functions defined in test.py\n",
    "from module1 import *\n",
    "\n",
    "# calling functions\n",
    "addNumber(2, 5)\n",
    "subtractNumber(45,23)\n",
    "multiplyNumber(5, 4)\n",
    "divideNumber(200,12)\n",
    "modulusNumber(45,2)\n",
    "\n"
   ]
  },
  {
   "cell_type": "markdown",
   "metadata": {},
   "source": [
    "3. From the Module file, import only the addition() and pass the arguments so that it can \n",
    "display the result from the method. "
   ]
  },
  {
   "cell_type": "code",
   "execution_count": 13,
   "metadata": {},
   "outputs": [
    {
     "name": "stdout",
     "output_type": "stream",
     "text": [
      "Sum is  108\n"
     ]
    }
   ],
   "source": [
    "# importing limited functions\n",
    "# defined in module.py\n",
    "from module1 import addNumber\n",
    "addNumber(45,63)\n"
   ]
  },
  {
   "cell_type": "markdown",
   "metadata": {},
   "source": [
    "4. From the Module file, import only the subtraction() and pass the arguments so that it can \n",
    "display the result from the method. "
   ]
  },
  {
   "cell_type": "code",
   "execution_count": 14,
   "metadata": {},
   "outputs": [
    {
     "name": "stdout",
     "output_type": "stream",
     "text": [
      "Difference is  -18\n"
     ]
    }
   ],
   "source": [
    "# importing limited functions\n",
    "# defined in module.py\n",
    "from module1 import subtractNumber\n",
    "subtractNumber(45,63)\n"
   ]
  },
  {
   "cell_type": "markdown",
   "metadata": {},
   "source": [
    "5. From the Module file, import both the multiplication() and division() and pass the arguments \n",
    "so that it can display the result from the methods."
   ]
  },
  {
   "cell_type": "code",
   "execution_count": 15,
   "metadata": {},
   "outputs": [
    {
     "name": "stdout",
     "output_type": "stream",
     "text": [
      "Product is  2835\n",
      "Division is  20.0\n"
     ]
    }
   ],
   "source": [
    "# importing limited functions\n",
    "# defined in module.py\n",
    "from module1 import multiplyNumber,divideNumber\n",
    "multiplyNumber(45,63)\n",
    "divideNumber(1200,60)"
   ]
  },
  {
   "cell_type": "code",
   "execution_count": null,
   "metadata": {},
   "outputs": [],
   "source": []
  }
 ],
 "metadata": {
  "kernelspec": {
   "display_name": "Python 3.9.12 ('base')",
   "language": "python",
   "name": "python3"
  },
  "language_info": {
   "codemirror_mode": {
    "name": "ipython",
    "version": 3
   },
   "file_extension": ".py",
   "mimetype": "text/x-python",
   "name": "python",
   "nbconvert_exporter": "python",
   "pygments_lexer": "ipython3",
   "version": "3.11.0"
  },
  "orig_nbformat": 4,
  "vscode": {
   "interpreter": {
    "hash": "0047bc61666b17e61f1039988b004b5a2665927427600c9d3424f6f42a099518"
   }
  }
 },
 "nbformat": 4,
 "nbformat_minor": 2
}
