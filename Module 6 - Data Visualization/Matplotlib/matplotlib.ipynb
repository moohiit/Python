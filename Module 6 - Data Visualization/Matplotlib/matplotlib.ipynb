{
 "cells": [
  {
   "cell_type": "markdown",
   "metadata": {},
   "source": [
    "# File handling in Python"
   ]
  },
  {
   "cell_type": "code",
   "execution_count": 1,
   "metadata": {},
   "outputs": [
    {
     "name": "stdout",
     "output_type": "stream",
     "text": [
      ",mpg,cyl,disp,hp,drat,wt,qsec,vs,am,gear,carb\n",
      "\n",
      "Mazda RX4,21,6,160,110,3.9,2.62,16.46,0,1,4,4\n",
      "\n",
      "Mazda RX4 Wag,21,6,160,110,3.9,2.875,17.02,0,1,4,4\n",
      "\n",
      "Datsun 710,22.8,4,108,93,3.85,2.32,18.61,1,1,4,1\n",
      "\n",
      "Hornet 4 Drive,21.4,6,258,110,3.08,3.215,19.44,1,0,3,1\n",
      "\n",
      "Hornet Sportabout,18.7,8,360,175,3.15,3.44,17.02,0,0,3,2\n",
      "\n",
      "Valiant,18.1,6,225,105,2.76,3.46,20.22,1,0,3,1\n",
      "\n",
      "Duster 360,14.3,8,360,245,3.21,3.57,15.84,0,0,3,4\n",
      "\n",
      "Merc 240D,24.4,4,146.7,62,3.69,3.19,20,1,0,4,2\n",
      "\n",
      "Merc 230,22.8,4,140.8,95,3.92,3.15,22.9,1,0,4,2\n",
      "\n",
      "Merc 280,19.2,6,167.6,123,3.92,3.44,18.3,1,0,4,4\n",
      "\n",
      "Merc 280C,17.8,6,167.6,123,3.92,3.44,18.9,1,0,4,4\n",
      "\n",
      "Merc 450SE,16.4,8,275.8,180,3.07,4.07,17.4,0,0,3,3\n",
      "\n",
      "Merc 450SL,17.3,8,275.8,180,3.07,3.73,17.6,0,0,3,3\n",
      "\n",
      "Merc 450SLC,15.2,8,275.8,180,3.07,3.78,18,0,0,3,3\n",
      "\n",
      "Cadillac Fleetwood,10.4,8,472,205,2.93,5.25,17.98,0,0,3,4\n",
      "\n",
      "Lincoln Continental,10.4,8,460,215,3,5.424,,0,0,3,4\n",
      "\n",
      "Chrysler Imperial,14.7,8,440,230,3.23,5.345,,0,0,3,4\n",
      "\n",
      "Fiat 128,32.4,4,78.7,66,4.08,2.2,,1,1,4,1\n",
      "\n",
      "Honda Civic,30.4,4,75.7,52,4.93,1.615,,1,1,4,2\n",
      "\n",
      "Toyota Corolla,33.9,4,71.1,65,4.22,1.835,19.9,1,1,4,1\n",
      "\n",
      "Toyota Corona,21.5,4,120.1,97,3.7,2.465,20.01,1,0,3,1\n",
      "\n",
      "Dodge Challenger,15.5,8,318,150,2.76,3.52,16.87,0,0,3,2\n",
      "\n",
      "AMC Javelin,15.2,8,304,150,3.15,3.435,17.3,0,0,3,2\n",
      "\n",
      "Camaro Z28,13.3,8,350,245,3.73,3.84,15.41,0,0,3,4\n",
      "\n",
      "Pontiac Firebird,19.2,8,400,175,3.08,3.845,17.05,0,0,3,2\n",
      "\n",
      "Fiat X1-9,27.3,4,79,66,4.08,1.935,18.9,1,1,4,1\n",
      "\n",
      "Porsche 914-2,26,4,120.3,91,4.43,2.14,16.7,0,1,5,2\n",
      "\n",
      "Lotus Europa,30.4,4,95.1,113,3.77,1.513,16.9,1,1,5,2\n",
      "\n",
      "Ford Pantera L,15.8,8,351,264,4.22,3.17,14.5,0,1,5,4\n",
      "\n",
      "Ferrari Dino,19.7,6,145,175,3.62,2.77,15.5,0,1,5,6\n",
      "\n",
      "Maserati Bora,15,8,301,335,3.54,3.57,14.6,0,1,5,8\n",
      "\n",
      "Volvo 142E,21.4,4,121,109,4.11,2.78,18.6,1,1,4,2\n",
      "\n"
     ]
    }
   ],
   "source": [
    "import os\n",
    "from pathlib import Path\n",
    "\n",
    "with open(Path(os.getcwd(), \"mtcars.csv\")) as f:\n",
    "    while (line:=f.readline()) != '':\n",
    "        print(line)"
   ]
  },
  {
   "cell_type": "code",
   "execution_count": 2,
   "metadata": {},
   "outputs": [
    {
     "name": "stdout",
     "output_type": "stream",
     "text": [
      "['', 'mpg', 'cyl', 'disp', 'hp', 'drat', 'wt', 'qsec', 'vs', 'am', 'gear', 'carb\\n']\n",
      "['Mazda RX4', '21', '6', '160', '110', '3.9', '2.62', '16.46', '0', '1', '4', '4\\n']\n",
      "['Mazda RX4 Wag', '21', '6', '160', '110', '3.9', '2.875', '17.02', '0', '1', '4', '4\\n']\n",
      "['Datsun 710', '22.8', '4', '108', '93', '3.85', '2.32', '18.61', '1', '1', '4', '1\\n']\n",
      "['Hornet 4 Drive', '21.4', '6', '258', '110', '3.08', '3.215', '19.44', '1', '0', '3', '1\\n']\n",
      "['Hornet Sportabout', '18.7', '8', '360', '175', '3.15', '3.44', '17.02', '0', '0', '3', '2\\n']\n",
      "['Valiant', '18.1', '6', '225', '105', '2.76', '3.46', '20.22', '1', '0', '3', '1\\n']\n",
      "['Duster 360', '14.3', '8', '360', '245', '3.21', '3.57', '15.84', '0', '0', '3', '4\\n']\n",
      "['Merc 240D', '24.4', '4', '146.7', '62', '3.69', '3.19', '20', '1', '0', '4', '2\\n']\n",
      "['Merc 230', '22.8', '4', '140.8', '95', '3.92', '3.15', '22.9', '1', '0', '4', '2\\n']\n",
      "['Merc 280', '19.2', '6', '167.6', '123', '3.92', '3.44', '18.3', '1', '0', '4', '4\\n']\n",
      "['Merc 280C', '17.8', '6', '167.6', '123', '3.92', '3.44', '18.9', '1', '0', '4', '4\\n']\n",
      "['Merc 450SE', '16.4', '8', '275.8', '180', '3.07', '4.07', '17.4', '0', '0', '3', '3\\n']\n",
      "['Merc 450SL', '17.3', '8', '275.8', '180', '3.07', '3.73', '17.6', '0', '0', '3', '3\\n']\n",
      "['Merc 450SLC', '15.2', '8', '275.8', '180', '3.07', '3.78', '18', '0', '0', '3', '3\\n']\n",
      "['Cadillac Fleetwood', '10.4', '8', '472', '205', '2.93', '5.25', '17.98', '0', '0', '3', '4\\n']\n",
      "['Lincoln Continental', '10.4', '8', '460', '215', '3', '5.424', '', '0', '0', '3', '4\\n']\n",
      "['Chrysler Imperial', '14.7', '8', '440', '230', '3.23', '5.345', '', '0', '0', '3', '4\\n']\n",
      "['Fiat 128', '32.4', '4', '78.7', '66', '4.08', '2.2', '', '1', '1', '4', '1\\n']\n",
      "['Honda Civic', '30.4', '4', '75.7', '52', '4.93', '1.615', '', '1', '1', '4', '2\\n']\n",
      "['Toyota Corolla', '33.9', '4', '71.1', '65', '4.22', '1.835', '19.9', '1', '1', '4', '1\\n']\n",
      "['Toyota Corona', '21.5', '4', '120.1', '97', '3.7', '2.465', '20.01', '1', '0', '3', '1\\n']\n",
      "['Dodge Challenger', '15.5', '8', '318', '150', '2.76', '3.52', '16.87', '0', '0', '3', '2\\n']\n",
      "['AMC Javelin', '15.2', '8', '304', '150', '3.15', '3.435', '17.3', '0', '0', '3', '2\\n']\n",
      "['Camaro Z28', '13.3', '8', '350', '245', '3.73', '3.84', '15.41', '0', '0', '3', '4\\n']\n",
      "['Pontiac Firebird', '19.2', '8', '400', '175', '3.08', '3.845', '17.05', '0', '0', '3', '2\\n']\n",
      "['Fiat X1-9', '27.3', '4', '79', '66', '4.08', '1.935', '18.9', '1', '1', '4', '1\\n']\n",
      "['Porsche 914-2', '26', '4', '120.3', '91', '4.43', '2.14', '16.7', '0', '1', '5', '2\\n']\n",
      "['Lotus Europa', '30.4', '4', '95.1', '113', '3.77', '1.513', '16.9', '1', '1', '5', '2\\n']\n",
      "['Ford Pantera L', '15.8', '8', '351', '264', '4.22', '3.17', '14.5', '0', '1', '5', '4\\n']\n",
      "['Ferrari Dino', '19.7', '6', '145', '175', '3.62', '2.77', '15.5', '0', '1', '5', '6\\n']\n",
      "['Maserati Bora', '15', '8', '301', '335', '3.54', '3.57', '14.6', '0', '1', '5', '8\\n']\n",
      "['Volvo 142E', '21.4', '4', '121', '109', '4.11', '2.78', '18.6', '1', '1', '4', '2\\n']\n"
     ]
    }
   ],
   "source": [
    "with open(Path(os.getcwd(), \"mtcars.csv\")) as f:\n",
    "    lines = f.readlines()\n",
    "    for line in lines:\n",
    "        \n",
    "        columns = line.split(\",\")\n",
    "        print(columns)"
   ]
  },
  {
   "cell_type": "code",
   "execution_count": null,
   "metadata": {},
   "outputs": [],
   "source": [
    "file = open(Path(Path(os.getcwd(), \"mtcars.csv\")))\n",
    "file.close()"
   ]
  },
  {
   "cell_type": "markdown",
   "metadata": {},
   "source": [
    "# Function Overloading -- Keyword arguments, Positional Arguments"
   ]
  },
  {
   "cell_type": "code",
   "execution_count": null,
   "metadata": {},
   "outputs": [],
   "source": [
    "def add(a,b,c=0):\n",
    "    return a+b+c\n",
    "\n",
    "print(add(20,10))\n",
    "print(add(10,20,c=30))"
   ]
  },
  {
   "cell_type": "code",
   "execution_count": null,
   "metadata": {},
   "outputs": [],
   "source": [
    "lst = [1,2,3,4]\n",
    "lst1 = [2,3,4,5]\n",
    "\n",
    "list(zip(lst, lst1))\n"
   ]
  },
  {
   "cell_type": "markdown",
   "metadata": {},
   "source": [
    "# Anscombe's Quartet"
   ]
  },
  {
   "cell_type": "code",
   "execution_count": null,
   "metadata": {},
   "outputs": [],
   "source": [
    "#importing the libraries\n",
    "#pip install matplotlib\n",
    "\n",
    "import numpy as np\n",
    "import matplotlib.pyplot as plt\n",
    "import os\n",
    "from pathlib import Path\n",
    "\n",
    "cwd = os.getcwd()"
   ]
  },
  {
   "cell_type": "code",
   "execution_count": null,
   "metadata": {},
   "outputs": [],
   "source": [
    "x1 = [10, 8, 13, 9, 11, 14, 6, 4, 12, 7, 5]\n",
    "y1 = [8.04, 6.95, 7.58, 8.81, 8.33, 9.96, 7.24, 4.26, 10.84, 4.82, 5.68]\n",
    "x2 = [10, 8, 13, 9, 11, 14, 6, 4, 12, 7, 5]\n",
    "y2 = [9.14, 8.14, 8.74, 8.77, 9.26, 8.10, 6.13, 3.10, 9.13, 7.26, 4.74]\n",
    "x3 = [10, 8, 13, 9, 11, 14, 6, 4, 12, 7, 5]\n",
    "y3 = [7.46, 6.77, 12.74, 7.11, 7.81, 8.84, 6.08, 5.39, 8.15, 6.42, 5.73]\n",
    "x4 = [8, 8, 8, 8, 8, 8, 8, 19, 8, 8, 8]\n",
    "y4 = [6.58, 5.76, 7.71, 8.84, 8.47, 7.04, 5.25, 12.50, 5.56, 7.91, 6.89]\n",
    "\n",
    "datasets = {\n",
    "    'I': (x1, y1),\n",
    "    'II': (x2, y2),\n",
    "    'III': (x3, y3),\n",
    "    'IV': (x4, y4)\n",
    "}\n",
    "\n",
    "fig, axs = plt.subplots(2, 2)\n",
    "axs[0, 0].set(xlim=(0, 20), ylim=(2, 14))\n",
    "axs[0, 0].set(xticks=(0, 10, 20), yticks=(4, 8, 12))\n",
    "\n",
    "print(axs[0,0])\n",
    "\n",
    "for ax, (label, (x, y)) in zip(axs.flat, datasets.items()):\n",
    "    \n",
    "    ax.text(0.1, 0.9, label, fontsize=20, transform=ax.transAxes, va='top')\n",
    "    ax.tick_params(direction='in', top=True, right=True)\n",
    "\n",
    "    # Scatter Plot\n",
    "    ax.scatter(x, y)\n",
    "\n",
    "    # add text box for the statistics\n",
    "    stats = (f'$\\\\mu$ = {np.mean(y):.2f}\\n'\n",
    "             f'$\\\\sigma$ = {np.std(y):.2f}\\n'\n",
    "             f'$r$ = {np.corrcoef(x, y)[0][1]:.2f}')\n",
    "    bbox = dict(boxstyle='round', fc='blanchedalmond', ec='orange', alpha=0.5)\n",
    "    ax.text(0.95, 0.07, stats, fontsize=9, bbox=bbox,\n",
    "            transform=ax.transAxes, horizontalalignment='right')\n",
    "\n",
    "plt.show()"
   ]
  },
  {
   "cell_type": "code",
   "execution_count": null,
   "metadata": {},
   "outputs": [],
   "source": [
    "ax.transAxes?"
   ]
  },
  {
   "cell_type": "markdown",
   "metadata": {},
   "source": [
    "# Line Charts"
   ]
  },
  {
   "cell_type": "code",
   "execution_count": null,
   "metadata": {},
   "outputs": [],
   "source": [
    "#defining the dataset\n",
    "x = np.arange(0,10,0.1)\n",
    "y = 2*x + 5\n",
    "\n",
    "#plotting the datapoints\n",
    "plt.plot(x,y)\n",
    "plt.show()"
   ]
  },
  {
   "cell_type": "markdown",
   "metadata": {},
   "source": [
    "# Cutomizing the Line Plot"
   ]
  },
  {
   "cell_type": "code",
   "execution_count": null,
   "metadata": {},
   "outputs": [],
   "source": [
    "#importing the libraries\n",
    "import numpy as np\n",
    "import matplotlib.pyplot as plt\n",
    "\n",
    "#defining the dataset\n",
    "x = np.arange(0,10,1)\n",
    "y = 2*x + 5\n",
    "y1=5*x+6\n",
    "#changing the figure\n",
    "fig =plt.figure(figsize=(10,5))\n",
    "#plotting the datapoints\n",
    "plt.plot(x,y,lw = 2.0,ls = \":\",marker ='3',color='#3059f0', alpha = 1)\n",
    "plt.plot(x,y1,linewidth = 2.0,linestyle = \"-.\",marker ='X',c=\"red\", alpha = 0.6)\n",
    "plt.title(\"Line Plot Demo\")\n",
    "plt.xlabel(\"X-Axis\")\n",
    "plt.ylabel(\"Y-Axis\")\n",
    "plt.legend(['line1','line2'],loc='best')\n",
    "plt.grid(True)\n",
    "plt.xlim(0,10)\n",
    "plt.ylim(5,60)\n",
    "    \n",
    "plt.show()"
   ]
  },
  {
   "cell_type": "code",
   "execution_count": null,
   "metadata": {},
   "outputs": [],
   "source": [
    "plt.plot?"
   ]
  },
  {
   "cell_type": "code",
   "execution_count": null,
   "metadata": {},
   "outputs": [],
   "source": [
    "plt.legend?"
   ]
  },
  {
   "cell_type": "code",
   "execution_count": null,
   "metadata": {},
   "outputs": [],
   "source": [
    "from matplotlib.ticker import AutoMinorLocator\n",
    "\n",
    "x = np.arange(0,10,1)\n",
    "y1 = 2*x+5\n",
    "y2 = 3*x+10\n",
    "\n",
    "#Create two or more plots in a fig\n",
    "#plt.subplot(nrows,ncols,index)\n",
    "ax = plt.subplot(111)\n",
    "#PLotting the points\n",
    "plt.plot(x,y1,lw = 2.0,ls = \":\", alpha = 0.8,marker ='o', c='#3059f0')\n",
    "plt.title('Graph1')\n",
    "plt.grid(True)\n",
    "plt.xlim(0,9)\n",
    "plt.ylim(5,35)\n",
    "\n",
    "ax.xaxis.set_minor_locator(AutoMinorLocator())\n",
    "ax.tick_params(which='minor', length = 4, color='red')\n",
    "ax.tick_params(which='major', length = 8, color='blue')\n",
    "\n",
    "ax.yaxis.set_minor_locator(AutoMinorLocator())\n",
    "ax.tick_params(which='minor', length = 4, color='red')\n",
    "ax.tick_params(which='major', length = 8, color='blue')\n",
    "print(ax)\n",
    "\n",
    "for idx in range(len(x)):\n",
    "    val =  f\"({x[idx]},{y1[idx]})\"\n",
    "    ax.text(x[idx], y1[idx], val, size = 15)\n",
    "\n",
    "plt.show()"
   ]
  },
  {
   "cell_type": "code",
   "execution_count": null,
   "metadata": {},
   "outputs": [],
   "source": [
    "y3 = 7*x + 9\n",
    "y4 = 10*x+20\n",
    "\n",
    "plt.figure(figsize=(20,20))\n",
    "\n",
    "plt.subplot(221)\n",
    "#PLotting the points\n",
    "plt.plot(x,y1,lw = 2.0,ls = \":\", alpha = 0.8,marker ='o', c='#3059f0')\n",
    "plt.title('Graph1')\n",
    "plt.grid(True)\n",
    "plt.xlim(0,9)\n",
    "plt.ylim(5,35)\n",
    "\n",
    "plt.subplot(2,2,2)\n",
    "plt.plot(x,y2,lw = 2.0,ls = \":\", alpha = 0.8,marker ='o',c=(235/255, 189/255, 52/255))\n",
    "plt.title('Graph2')\n",
    "plt.grid(True)\n",
    "plt.xlim(0,9)\n",
    "plt.ylim(10,40)\n",
    "\n",
    "plt.subplot(2,2,3)\n",
    "plt.plot(x,y3,lw = 2.0,ls = \":\", alpha = 0.8,marker ='o',c=(235/255, 189/255, 52/255))\n",
    "plt.title('Graph3')\n",
    "plt.grid(True)\n",
    "plt.xlim(0,9)\n",
    "plt.ylim(9,80)\n",
    "\n",
    "plt.subplot(224)\n",
    "#PLotting the points\n",
    "plt.plot(x,y4,lw = 2.0,ls = \":\", alpha = 0.8,marker ='o', c='#3059f0')\n",
    "plt.title('Graph4')\n",
    "plt.grid(True)\n",
    "plt.xlim(0,9)\n",
    "plt.ylim(20,120)"
   ]
  },
  {
   "cell_type": "code",
   "execution_count": null,
   "metadata": {},
   "outputs": [],
   "source": [
    "ax.text?"
   ]
  },
  {
   "cell_type": "markdown",
   "metadata": {},
   "source": [
    "# How to create a Bar Plot"
   ]
  },
  {
   "cell_type": "code",
   "execution_count": null,
   "metadata": {},
   "outputs": [],
   "source": [
    "import pandas as pd\n",
    "\n",
    "#creating the dataset\n",
    "data = {'apples':20,'Mangoes':15,'Lemon':30,'Oranges':10}\n",
    "names = list(data.keys())\n",
    "values = list(data.values())\n",
    "\n",
    "df = pd.DataFrame()\n",
    "\n",
    "df[\"fruit_name\"] = names\n",
    "df[\"count\"] = values\n",
    "\n",
    "print(df)\n",
    "\n",
    "plt.figure(figsize = (10,5),facecolor=\"#43608f\",edgecolor=\"#081f45\",linewidth=10.0,tight_layout=False)\n",
    "#Creating the bar plot\n",
    "bars = plt.bar(names,values, color=\"#3285a8\",width=0.9)\n",
    "#plt.bar( df[\"fruit_name\"],df[\"count\"], color=\"#3285a8\",width=0.9)\n",
    "for b in bars:\n",
    "    plt.text(b.get_x() + b.get_width()/2.0, b.get_height(), f'{b.get_height():.2f}', ha='center', va='bottom',c='red')\n",
    "    b.set_facecolor(\"red\")\n",
    "plt.title(\"Bar Graph Demo\")\n",
    "plt.xlabel(\"Fruits\")\n",
    "plt.ylabel(\"Quantity\")\n",
    "plt.show()"
   ]
  },
  {
   "cell_type": "code",
   "execution_count": null,
   "metadata": {},
   "outputs": [],
   "source": [
    "plt.text?"
   ]
  },
  {
   "cell_type": "markdown",
   "metadata": {},
   "source": [
    "# Horizontal Bar Chart"
   ]
  },
  {
   "cell_type": "code",
   "execution_count": null,
   "metadata": {},
   "outputs": [],
   "source": [
    "import numpy as np\n",
    "import matplotlib.pyplot as plt\n",
    "\n",
    "#creating the dataset\n",
    "data = {'apples':20,'Mangoes':15,'Lemon':30,'Oranges':10}\n",
    "names = list(data.keys())\n",
    "values = list(data.values())\n",
    "\n",
    "fig = plt.figure(figsize = (10,8))\n",
    "#Creating the bar plot\n",
    "plt.barh(names,values,color=\"green\")\n",
    "plt.title(\"Bar Graph Demo\")\n",
    "plt.xlabel(\"Counts\")\n",
    "plt.ylabel(\"Fruits\")\n",
    "plt.show()"
   ]
  },
  {
   "cell_type": "markdown",
   "metadata": {},
   "source": [
    "# How to create a Scatter Plot"
   ]
  },
  {
   "cell_type": "code",
   "execution_count": null,
   "metadata": {},
   "outputs": [],
   "source": [
    "#Creating the dataset\n",
    "a =[10,20,30,40,50,60,70,80]\n",
    "b = [a**2 for a in a]\n",
    "c =[a**3 for a in a]\n",
    "\n",
    "#Creating the scatter Plot\n",
    "#plt.plot(a,b)\n",
    "plt.figure(figsize=(8,8))\n",
    "plt.subplot(1,2,1)\n",
    "plt.scatter(a,b,color='green')\n",
    "\n",
    "plt.subplot(1,2,2)\n",
    "plt.scatter(a,c,color='maroon')\n",
    "#plt.plot(a,c)\n",
    "\n",
    "\n",
    "plt.show()"
   ]
  },
  {
   "cell_type": "markdown",
   "metadata": {},
   "source": [
    "# Customizing our Scatter Plot"
   ]
  },
  {
   "cell_type": "code",
   "execution_count": null,
   "metadata": {},
   "outputs": [],
   "source": [
    "#Creating the dataset\n",
    "a =[10,20,30,40,50,60,70,80]\n",
    "b =[5,3,2,5,6,1,4,2]\n",
    "x =[1,2,3,4,3,2,1,2]\n",
    "\n",
    "#Creating the scatter Plot\n",
    "plt.scatter(x,b, color='#32a89e', s=200,edgecolors='black',marker='o',alpha =1)\n",
    "plt.scatter(x,a,c='maroon', s=400,edgecolors='b',marker='4',alpha =1)\n",
    "plt.legend(['b','x'],loc='best')\n",
    "plt.title(\"Scatter Plot Demo\")\n",
    "plt.xlabel(\"X-Axis\")\n",
    "plt.ylabel(\"Y-Axis\")\n",
    "plt.grid(True)\n",
    "plt.show()"
   ]
  },
  {
   "cell_type": "code",
   "execution_count": null,
   "metadata": {},
   "outputs": [],
   "source": [
    "plt.scatter?"
   ]
  },
  {
   "cell_type": "markdown",
   "metadata": {},
   "source": [
    "# How to create a Histogram?"
   ]
  },
  {
   "cell_type": "code",
   "execution_count": null,
   "metadata": {},
   "outputs": [],
   "source": [
    "#prepraring the dataset\n",
    "numbers = [5,10,12,16,19,11,20,26,28,30,38,35,34,45,55,60,68,64,62,70,78,75,79,85,94,95]\n",
    "# creating the histogram\n",
    "plt.hist(numbers, bins=10)\n",
    "plt.xlim(0,100)\n",
    "plt.show()"
   ]
  },
  {
   "cell_type": "code",
   "execution_count": null,
   "metadata": {},
   "outputs": [],
   "source": [
    "plt.hist?"
   ]
  },
  {
   "cell_type": "markdown",
   "metadata": {},
   "source": [
    "# Customizing the Histogram"
   ]
  },
  {
   "cell_type": "code",
   "execution_count": null,
   "metadata": {},
   "outputs": [],
   "source": [
    "import matplotlib.pyplot as plt\n",
    "#prepraring the dataset\n",
    "\n",
    "numbers = [7,10,12,16,19,11,20,26,28,30,38,35,34,45,60,68,64,62,70,78,75,79,85,94,95]\n",
    "\n",
    "# creating the histogram\n",
    "plt.hist(numbers, bins = [0,10,20,40,60,70,80,100], edgecolor='#592001', color ='#afc3e3')\n",
    "plt.title(\"Histogram Demo\")\n",
    "plt.xlabel(\"Range of values\")\n",
    "plt.ylabel(\"Frequence of values\")\n",
    "plt.grid(True)\n",
    "plt.show()"
   ]
  },
  {
   "cell_type": "markdown",
   "metadata": {},
   "source": [
    "# How to create a Box Plot?"
   ]
  },
  {
   "cell_type": "code",
   "execution_count": null,
   "metadata": {},
   "outputs": [],
   "source": [
    "#Data Preparation\n",
    "total = [20,4,1,30,20,10,20,70,30,10]\n",
    "data = list([total])\n",
    "#Plotting the data\n",
    "plt.boxplot(data, showmeans = True)\n",
    "plt.title(\"Box Plot Demo\")\n",
    "#plt.grid(True)\n",
    "plt.show()"
   ]
  },
  {
   "cell_type": "code",
   "execution_count": null,
   "metadata": {},
   "outputs": [],
   "source": [
    "#Data Preparation\n",
    "total = [20,4,1,30,20,10,20,70,30,10]\n",
    "order = [-30, 10,3,1,15,17,2,30,44,2,1]\n",
    "discount = [30,10,20,5,10,20,50,60,20,45]\n",
    "data = list([total, order,discount])\n",
    "#Plotting the data\n",
    "plt.boxplot(data, showmeans = True)\n",
    "plt.title(\"Box Plot Demo\")\n",
    "#plt.grid(True)\n",
    "plt.show()"
   ]
  },
  {
   "cell_type": "code",
   "execution_count": null,
   "metadata": {},
   "outputs": [],
   "source": [
    "plt.hist(total, bins=5)"
   ]
  },
  {
   "cell_type": "code",
   "execution_count": null,
   "metadata": {},
   "outputs": [],
   "source": [
    "plt.hist(order, bins=7)"
   ]
  },
  {
   "cell_type": "code",
   "execution_count": null,
   "metadata": {},
   "outputs": [],
   "source": [
    "total = [20,4,1,30,20,10,20,70,30,10]\n",
    "q=np.percentile(total,[25,50,75])\n",
    "print(q)\n",
    "iqr = q[2] - q[0]\n",
    "iqr"
   ]
  },
  {
   "cell_type": "markdown",
   "metadata": {},
   "source": [
    "# Outlier Calculation\n",
    "\n",
    "\n",
    "## 10-(1.5*17.5) < n < 27.5 + (1.5*17.5) ## Allowable range for any number to not be a outlier\n",
    "\n",
    "## q1 - (1.5 * IQR) < n < q3 + (1.5 * IQR)\n",
    "\n",
    "\n",
    "## n < 10 - (1.5 * 17.5) ### Outlier --> n < q1 - 1.5 * IQR\n",
    "## n > 27.5 + (1.5 * 17.5) ### Outlier --> n > q3 + 1.5 * IQR\n"
   ]
  },
  {
   "cell_type": "code",
   "execution_count": null,
   "metadata": {},
   "outputs": [],
   "source": [
    "27.5 + (1.5*17.5)"
   ]
  },
  {
   "cell_type": "code",
   "execution_count": null,
   "metadata": {},
   "outputs": [],
   "source": [
    "print(np.mean(total))\n",
    "print(np.median(total))"
   ]
  },
  {
   "cell_type": "code",
   "execution_count": null,
   "metadata": {},
   "outputs": [],
   "source": [
    "order = [10,3,1,15,17,2,30,44,2,1]\n",
    "q=np.percentile(order,[25,50,75])\n",
    "print(q)\n",
    "iqr = q[2] - q[0]\n",
    "iqr"
   ]
  },
  {
   "cell_type": "code",
   "execution_count": null,
   "metadata": {},
   "outputs": [],
   "source": [
    "16.5 + (1.5 * 14.5)  #### q3 + 1.5 * IQR"
   ]
  },
  {
   "cell_type": "code",
   "execution_count": null,
   "metadata": {},
   "outputs": [],
   "source": [
    "2 - (1.5 * 14.5) ### q1 - 1.5*IQR"
   ]
  },
  {
   "cell_type": "code",
   "execution_count": null,
   "metadata": {},
   "outputs": [],
   "source": [
    "print(np.mean(order))\n",
    "print(np.median(order))"
   ]
  },
  {
   "cell_type": "code",
   "execution_count": null,
   "metadata": {},
   "outputs": [],
   "source": [
    "discount = [30,10,20,5,10,20,50,60,20,45]\n",
    "q=np.percentile(discount,[25,50,75])\n",
    "print(q)\n",
    "iqr = q[2] - q[0]\n",
    "iqr"
   ]
  },
  {
   "cell_type": "code",
   "execution_count": null,
   "metadata": {},
   "outputs": [],
   "source": [
    "print(np.mean(discount))\n",
    "print(np.median(discount))"
   ]
  },
  {
   "cell_type": "markdown",
   "metadata": {},
   "source": [
    "# How to create a violin plot?"
   ]
  },
  {
   "cell_type": "code",
   "execution_count": null,
   "metadata": {},
   "outputs": [],
   "source": [
    "#Data Preparation\n",
    "total = [20,4,1,30,20,10,20,70,30,10]\n",
    "order = [10,3,1,15,17,2,30,44,2,1]\n",
    "discount = [30,10,20,5,10,20,50,60,20,45]\n",
    "data = list([total, order,discount])\n",
    "#Plotting the data\n",
    "#plt.violinplot(data)\n",
    "plt.violinplot(data, showmeans = True, showmedians = True)\n",
    "plt.title(\"Violin Plot Demo\")\n",
    "plt.grid(True)\n",
    "plt.show()"
   ]
  },
  {
   "cell_type": "code",
   "execution_count": null,
   "metadata": {},
   "outputs": [],
   "source": [
    "plt.violinplot?"
   ]
  },
  {
   "cell_type": "markdown",
   "metadata": {},
   "source": [
    "# How to create a Pie Chart"
   ]
  },
  {
   "cell_type": "code",
   "execution_count": null,
   "metadata": {},
   "outputs": [],
   "source": [
    "#preparing the dataset\n",
    "label = ['Dog','Cat','Wolf','Lion','Deer']\n",
    "sizes = [50,45,60,80,100]\n",
    "\n",
    "\n",
    "#creating the pie chart\n",
    "plt.pie(sizes, labels = label, autopct='%0.2f%%',startangle =90,shadow=True,explode = (0.2,0.4,0.5,0.7,0.9))\n",
    "#plt.pie(sizes, labels = label,autopct='%1.3f%%',shadow=True, startangle =90,explode = (0.2,0.0,0.0,0.0,0.0))\n",
    "#plt.pie(sizes, labels = label,autopct='%.2f%%',shadow=True, startangle =90,explode = (0.2,0.4,0.5,0.3,0.25))\n",
    "plt.title(\"Pie Chart Demo\")\n",
    "plt.show()"
   ]
  },
  {
   "cell_type": "code",
   "execution_count": null,
   "metadata": {},
   "outputs": [],
   "source": [
    "sum(sizes)"
   ]
  },
  {
   "cell_type": "markdown",
   "metadata": {},
   "source": [
    "# How to create a Doughnut Chart"
   ]
  },
  {
   "cell_type": "code",
   "execution_count": null,
   "metadata": {},
   "outputs": [],
   "source": [
    "#define the dataset\n",
    "group_names = ['Dog','Cat','Wolf','Lion','Deer']\n",
    "group_size = [50,45,60,80,100]\n",
    "group_size1 = [25,25,59,40]\n",
    "size_centre = [1]\n",
    "#Creating the doughnut chart\n",
    "pie1 = plt.pie(group_size,labels = group_names, radius = 2,colors = ['blue','black','maroon','green','#103859'])\n",
    "pie2 = plt.pie([1],radius = 1.3,colors = 'white')\n",
    "\n",
    "plt.show()"
   ]
  },
  {
   "cell_type": "code",
   "execution_count": null,
   "metadata": {},
   "outputs": [],
   "source": [
    "plt.pie?"
   ]
  },
  {
   "cell_type": "markdown",
   "metadata": {},
   "source": [
    "# How to create a Area Chart?"
   ]
  },
  {
   "cell_type": "code",
   "execution_count": null,
   "metadata": {},
   "outputs": [],
   "source": [
    "# List of Days\n",
    "days = [1, 2, 3, 4, 5]\n",
    " \n",
    "# No of Study Hours\n",
    "Studying = [7, 8, 6, 11, 7]\n",
    " \n",
    "# No of Playing Hours\n",
    "playing =  [8, 5, 7, 8, 13]\n",
    " \n",
    "# Stackplot with X, Y, colors value\n",
    "plt.stackplot(days, Studying, playing,\n",
    "              colors =['r', 'c'])\n",
    " \n",
    "# Days\n",
    "plt.xlabel('Days')\n",
    " \n",
    "# No of hours\n",
    "plt.ylabel('No of Hours')\n",
    " \n",
    "# Title of Graph\n",
    "plt.title('Representation of Study and \\\n",
    "Playing wrt to Days')\n",
    "\n",
    "plt.savefig(Path(cwd,\"areaplot.jpg\"))\n",
    "plt.savefig(Path(cwd,\"areaplot.png\"))\n",
    "plt.savefig(Path(cwd,\"areaplot.pdf\"))\n",
    "plt.savefig(Path(cwd,\"areaplot.tif\"))\n",
    " \n",
    "# Displaying Graph\n",
    "plt.show()"
   ]
  },
  {
   "cell_type": "code",
   "execution_count": null,
   "metadata": {},
   "outputs": [],
   "source": []
  }
 ],
 "metadata": {
  "kernelspec": {
   "display_name": "Python 3.10.1 64-bit ('intellipaat_ds')",
   "language": "python",
   "name": "python3"
  },
  "language_info": {
   "codemirror_mode": {
    "name": "ipython",
    "version": 3
   },
   "file_extension": ".py",
   "mimetype": "text/x-python",
   "name": "python",
   "nbconvert_exporter": "python",
   "pygments_lexer": "ipython3",
   "version": "3.11.0"
  },
  "vscode": {
   "interpreter": {
    "hash": "3518455b389604bb53a76252682506dab21201926e69c322ffcabe3e3344a0ac"
   }
  }
 },
 "nbformat": 4,
 "nbformat_minor": 2
}
