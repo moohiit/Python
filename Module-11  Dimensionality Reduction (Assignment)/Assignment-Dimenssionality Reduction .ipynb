{
 "cells": [
  {
   "cell_type": "markdown",
   "metadata": {},
   "source": [
    "# Dimensionality Reduction Assignment  \n",
    " \n",
    "Problem Statement:    \n",
    "You work in XYZ Company as a Python. The company officials want you to write code for reducing the dimensions of a dataset      \n",
    " \n",
    "Tasks to be performed: \n",
    "    "
   ]
  },
  {
   "cell_type": "markdown",
   "metadata": {},
   "source": [
    "- Using load_digits function from sklearn import wines data     "
   ]
  },
  {
   "cell_type": "code",
   "execution_count": 1,
   "metadata": {},
   "outputs": [],
   "source": [
    "import pandas as pd\n",
    "import numpy as np\n",
    "from sklearn.datasets import load_wine\n",
    "\n",
    "wine=load_wine()"
   ]
  },
  {
   "cell_type": "code",
   "execution_count": 2,
   "metadata": {},
   "outputs": [
    {
     "data": {
      "text/html": [
       "<div>\n",
       "<style scoped>\n",
       "    .dataframe tbody tr th:only-of-type {\n",
       "        vertical-align: middle;\n",
       "    }\n",
       "\n",
       "    .dataframe tbody tr th {\n",
       "        vertical-align: top;\n",
       "    }\n",
       "\n",
       "    .dataframe thead th {\n",
       "        text-align: right;\n",
       "    }\n",
       "</style>\n",
       "<table border=\"1\" class=\"dataframe\">\n",
       "  <thead>\n",
       "    <tr style=\"text-align: right;\">\n",
       "      <th></th>\n",
       "      <th>alcohol</th>\n",
       "      <th>malic_acid</th>\n",
       "      <th>ash</th>\n",
       "      <th>alcalinity_of_ash</th>\n",
       "      <th>magnesium</th>\n",
       "      <th>total_phenols</th>\n",
       "      <th>flavanoids</th>\n",
       "      <th>nonflavanoid_phenols</th>\n",
       "      <th>proanthocyanins</th>\n",
       "      <th>color_intensity</th>\n",
       "      <th>hue</th>\n",
       "      <th>od280/od315_of_diluted_wines</th>\n",
       "      <th>proline</th>\n",
       "      <th>target</th>\n",
       "    </tr>\n",
       "  </thead>\n",
       "  <tbody>\n",
       "    <tr>\n",
       "      <th>0</th>\n",
       "      <td>14.23</td>\n",
       "      <td>1.71</td>\n",
       "      <td>2.43</td>\n",
       "      <td>15.6</td>\n",
       "      <td>127.0</td>\n",
       "      <td>2.80</td>\n",
       "      <td>3.06</td>\n",
       "      <td>0.28</td>\n",
       "      <td>2.29</td>\n",
       "      <td>5.64</td>\n",
       "      <td>1.04</td>\n",
       "      <td>3.92</td>\n",
       "      <td>1065.0</td>\n",
       "      <td>0.0</td>\n",
       "    </tr>\n",
       "    <tr>\n",
       "      <th>1</th>\n",
       "      <td>13.20</td>\n",
       "      <td>1.78</td>\n",
       "      <td>2.14</td>\n",
       "      <td>11.2</td>\n",
       "      <td>100.0</td>\n",
       "      <td>2.65</td>\n",
       "      <td>2.76</td>\n",
       "      <td>0.26</td>\n",
       "      <td>1.28</td>\n",
       "      <td>4.38</td>\n",
       "      <td>1.05</td>\n",
       "      <td>3.40</td>\n",
       "      <td>1050.0</td>\n",
       "      <td>0.0</td>\n",
       "    </tr>\n",
       "    <tr>\n",
       "      <th>2</th>\n",
       "      <td>13.16</td>\n",
       "      <td>2.36</td>\n",
       "      <td>2.67</td>\n",
       "      <td>18.6</td>\n",
       "      <td>101.0</td>\n",
       "      <td>2.80</td>\n",
       "      <td>3.24</td>\n",
       "      <td>0.30</td>\n",
       "      <td>2.81</td>\n",
       "      <td>5.68</td>\n",
       "      <td>1.03</td>\n",
       "      <td>3.17</td>\n",
       "      <td>1185.0</td>\n",
       "      <td>0.0</td>\n",
       "    </tr>\n",
       "    <tr>\n",
       "      <th>3</th>\n",
       "      <td>14.37</td>\n",
       "      <td>1.95</td>\n",
       "      <td>2.50</td>\n",
       "      <td>16.8</td>\n",
       "      <td>113.0</td>\n",
       "      <td>3.85</td>\n",
       "      <td>3.49</td>\n",
       "      <td>0.24</td>\n",
       "      <td>2.18</td>\n",
       "      <td>7.80</td>\n",
       "      <td>0.86</td>\n",
       "      <td>3.45</td>\n",
       "      <td>1480.0</td>\n",
       "      <td>0.0</td>\n",
       "    </tr>\n",
       "    <tr>\n",
       "      <th>4</th>\n",
       "      <td>13.24</td>\n",
       "      <td>2.59</td>\n",
       "      <td>2.87</td>\n",
       "      <td>21.0</td>\n",
       "      <td>118.0</td>\n",
       "      <td>2.80</td>\n",
       "      <td>2.69</td>\n",
       "      <td>0.39</td>\n",
       "      <td>1.82</td>\n",
       "      <td>4.32</td>\n",
       "      <td>1.04</td>\n",
       "      <td>2.93</td>\n",
       "      <td>735.0</td>\n",
       "      <td>0.0</td>\n",
       "    </tr>\n",
       "  </tbody>\n",
       "</table>\n",
       "</div>"
      ],
      "text/plain": [
       "   alcohol  malic_acid   ash  alcalinity_of_ash  magnesium  total_phenols  \\\n",
       "0    14.23        1.71  2.43               15.6      127.0           2.80   \n",
       "1    13.20        1.78  2.14               11.2      100.0           2.65   \n",
       "2    13.16        2.36  2.67               18.6      101.0           2.80   \n",
       "3    14.37        1.95  2.50               16.8      113.0           3.85   \n",
       "4    13.24        2.59  2.87               21.0      118.0           2.80   \n",
       "\n",
       "   flavanoids  nonflavanoid_phenols  proanthocyanins  color_intensity   hue  \\\n",
       "0        3.06                  0.28             2.29             5.64  1.04   \n",
       "1        2.76                  0.26             1.28             4.38  1.05   \n",
       "2        3.24                  0.30             2.81             5.68  1.03   \n",
       "3        3.49                  0.24             2.18             7.80  0.86   \n",
       "4        2.69                  0.39             1.82             4.32  1.04   \n",
       "\n",
       "   od280/od315_of_diluted_wines  proline  target  \n",
       "0                          3.92   1065.0     0.0  \n",
       "1                          3.40   1050.0     0.0  \n",
       "2                          3.17   1185.0     0.0  \n",
       "3                          3.45   1480.0     0.0  \n",
       "4                          2.93    735.0     0.0  "
      ]
     },
     "execution_count": 2,
     "metadata": {},
     "output_type": "execute_result"
    }
   ],
   "source": [
    "data=pd.DataFrame(data=np.c_[wine['data'],wine['target']],columns=wine['feature_names']+['target'])\n",
    "data.head()"
   ]
  },
  {
   "cell_type": "markdown",
   "metadata": {},
   "source": [
    "- Take a look at the shape of image data     "
   ]
  },
  {
   "cell_type": "code",
   "execution_count": 3,
   "metadata": {},
   "outputs": [
    {
     "name": "stdout",
     "output_type": "stream",
     "text": [
      "(178, 14)\n",
      "<class 'pandas.core.frame.DataFrame'>\n",
      "RangeIndex: 178 entries, 0 to 177\n",
      "Data columns (total 14 columns):\n",
      " #   Column                        Non-Null Count  Dtype  \n",
      "---  ------                        --------------  -----  \n",
      " 0   alcohol                       178 non-null    float64\n",
      " 1   malic_acid                    178 non-null    float64\n",
      " 2   ash                           178 non-null    float64\n",
      " 3   alcalinity_of_ash             178 non-null    float64\n",
      " 4   magnesium                     178 non-null    float64\n",
      " 5   total_phenols                 178 non-null    float64\n",
      " 6   flavanoids                    178 non-null    float64\n",
      " 7   nonflavanoid_phenols          178 non-null    float64\n",
      " 8   proanthocyanins               178 non-null    float64\n",
      " 9   color_intensity               178 non-null    float64\n",
      " 10  hue                           178 non-null    float64\n",
      " 11  od280/od315_of_diluted_wines  178 non-null    float64\n",
      " 12  proline                       178 non-null    float64\n",
      " 13  target                        178 non-null    float64\n",
      "dtypes: float64(14)\n",
      "memory usage: 19.6 KB\n"
     ]
    }
   ],
   "source": [
    "print(data.shape)\n",
    "data.info()"
   ]
  },
  {
   "cell_type": "code",
   "execution_count": 4,
   "metadata": {},
   "outputs": [],
   "source": [
    "x=pd.DataFrame(data.iloc[:,:-1])\n",
    "y=pd.DataFrame(data.iloc[:,-1])"
   ]
  },
  {
   "cell_type": "markdown",
   "metadata": {},
   "source": [
    "- Import PCA, LDA and FactorAnalysis from Sklearn     "
   ]
  },
  {
   "cell_type": "code",
   "execution_count": 5,
   "metadata": {},
   "outputs": [],
   "source": [
    "from sklearn.decomposition import PCA,LatentDirichletAllocation,FactorAnalysis\n",
    "from sklearn.model_selection import train_test_split\n",
    "from sklearn.metrics import confusion_matrix,accuracy_score\n",
    "from sklearn.preprocessing import StandardScaler\n",
    "from sklearn.ensemble import RandomForestClassifier"
   ]
  },
  {
   "cell_type": "markdown",
   "metadata": {},
   "source": [
    "- Project data in 2 D space using the PCA, LDA and FactorAnalysis algorithm form sklearn                    "
   ]
  },
  {
   "cell_type": "code",
   "execution_count": 6,
   "metadata": {},
   "outputs": [],
   "source": [
    "xtrain,xtest,ytrain,ytest=train_test_split(x,y,test_size=.25,random_state=0)\n",
    "pca=PCA(n_components=2)\n",
    "pca_x_train=pca.fit_transform(xtrain)\n",
    "pca_x_test=pca.transform(xtest)"
   ]
  },
  {
   "cell_type": "code",
   "execution_count": 7,
   "metadata": {},
   "outputs": [
    {
     "data": {
      "text/plain": [
       "array([[ 9.54445410e+01,  1.39902250e+01],\n",
       "       [-5.49002358e+01, -5.60700681e+00],\n",
       "       [ 1.36165698e+02, -1.57529543e+00],\n",
       "       [ 1.05359747e+02,  9.90153875e+00],\n",
       "       [ 5.30422666e+02,  1.12889389e+01],\n",
       "       [-2.19731379e+02,  6.97540923e+00],\n",
       "       [-1.69985774e+02, -9.80572578e+00],\n",
       "       [ 4.54666236e+01,  1.57919434e+01],\n",
       "       [-8.98470753e+01, -9.21424905e-01],\n",
       "       [ 2.85172934e+02, -3.95829470e+00],\n",
       "       [-4.37883536e+02, -1.65472575e+00],\n",
       "       [ 8.54854060e+01,  1.82487252e+01],\n",
       "       [ 8.01848402e+01,  3.08817706e-01],\n",
       "       [-3.40017938e+02, -9.08876953e+00],\n",
       "       [-1.79716691e+02,  8.37962213e+00],\n",
       "       [-2.69946807e+02, -7.22120688e+00],\n",
       "       [ 5.35022188e+02, -1.48448664e+01],\n",
       "       [-2.35039955e+02, -1.17499255e+01],\n",
       "       [-1.00031692e+02, -1.39251830e+01],\n",
       "       [-3.21992319e+02, -1.05038784e+01],\n",
       "       [-3.78066625e+02, -1.46281214e+01],\n",
       "       [-7.47138656e+01,  6.69239768e+00],\n",
       "       [-1.19889840e+02, -4.62575130e+00],\n",
       "       [ 4.35144435e+02, -6.24508343e+00],\n",
       "       [-2.29936780e+02, -9.02857713e+00],\n",
       "       [ 1.88123054e+02,  5.85945182e+01],\n",
       "       [-1.24290223e+02,  3.54923265e+01],\n",
       "       [-6.97517968e+01,  3.59531539e+00],\n",
       "       [ 7.60165233e+02, -7.32337837e+00],\n",
       "       [-6.99093158e+01, -5.37409207e+00],\n",
       "       [ 2.35700511e+02,  3.50034418e+01],\n",
       "       [-2.79992385e+02, -1.00688001e+01],\n",
       "       [-1.29973804e+02, -9.34180624e+00],\n",
       "       [-1.87687451e+02,  9.46491641e+00],\n",
       "       [-3.72013187e+02, -9.65804450e+00],\n",
       "       [-2.55017468e+02, -1.04888635e+01],\n",
       "       [-5.46490595e+01,  1.14805218e+01],\n",
       "       [-2.39850313e+02, -7.27556745e-01],\n",
       "       [ 4.00045953e+02, -1.47777359e+01],\n",
       "       [-2.49381860e+01, -7.01138301e+00],\n",
       "       [-1.25301785e+02, -2.84714906e+01],\n",
       "       [-3.94703749e+02,  9.67014962e+00],\n",
       "       [-3.84779077e+02,  7.62215026e+00],\n",
       "       [-3.70059915e+02, -1.26759555e+01],\n",
       "       [-3.10078236e+01,  5.09727515e+01],\n",
       "       [ 5.10258814e+02, -4.20893776e-01],\n",
       "       [ 3.10194354e+02, -2.29267681e+00],\n",
       "       [-2.99788219e+02,  3.17372738e+00],\n",
       "       [ 4.00035371e+02, -1.57999068e+01],\n",
       "       [-3.00062954e+01, -1.09751664e+01],\n",
       "       [ 2.65073002e+02, -9.62756930e+00],\n",
       "       [-2.29991802e+02, -8.81864628e+00],\n",
       "       [ 3.06102538e+01,  2.50152512e+01],\n",
       "       [ 5.60309412e+02,  2.78422518e+00],\n",
       "       [ 7.65907135e-01,  3.54574262e+01],\n",
       "       [ 4.40331409e+02,  3.60784363e+00],\n",
       "       [-3.98543692e+01, -2.88278185e+00],\n",
       "       [-3.57967979e+02, -8.93428582e+00],\n",
       "       [ 7.30307924e+02,  1.13455866e+00],\n",
       "       [ 9.04839199e+01,  1.81648767e+01],\n",
       "       [-2.62053720e+02, -1.23409155e+01],\n",
       "       [ 5.40072268e+02, -1.29467872e+01],\n",
       "       [ 3.45937054e-01,  9.48164089e+00],\n",
       "       [-3.21807438e+02,  1.49574319e+00],\n",
       "       [-2.29875843e+02, -2.90657264e+00],\n",
       "       [-1.19454696e+02,  2.33752591e+01],\n",
       "       [ 5.69950541e+02, -2.03901489e+01],\n",
       "       [-2.34885225e+02, -7.16433817e-01],\n",
       "       [-3.24551730e+02,  2.07032711e+01],\n",
       "       [ 7.97151523e+02, -1.09703962e+01],\n",
       "       [ 3.15587024e+02,  2.15682529e+01],\n",
       "       [-3.00015104e+02, -9.75600295e+00],\n",
       "       [-7.48254732e+01, -1.26805550e+00],\n",
       "       [ 3.15190922e+02, -3.42094833e+00],\n",
       "       [ 5.30044006e+02, -1.37614440e+01],\n",
       "       [-1.86004593e+02, -1.05890959e+01],\n",
       "       [-3.11818998e+02,  2.40446760e+00],\n",
       "       [ 1.70155249e+02, -3.09901808e+00],\n",
       "       [ 5.20158016e+02, -6.60156092e+00],\n",
       "       [ 2.84986364e+02, -1.49178008e+01],\n",
       "       [-9.90101141e+00, -5.27142256e+00],\n",
       "       [-7.18321476e+01, -1.35898530e+00],\n",
       "       [ 3.00184141e+02, -5.26785117e+00],\n",
       "       [-1.24870245e+02, -2.51943101e+00],\n",
       "       [-1.99924021e+02, -5.33780410e+00],\n",
       "       [ 3.45178565e+02, -4.90466691e+00],\n",
       "       [-4.34933592e+02, -3.66191591e+00],\n",
       "       [-1.89850791e+02,  5.68304684e-01],\n",
       "       [-1.09757645e+02,  4.27470949e+00],\n",
       "       [ 3.80366864e+02,  8.62763865e+00],\n",
       "       [ 2.70131220e+02, -6.73893057e+00],\n",
       "       [-1.49719654e+02,  7.90373173e+00],\n",
       "       [ 6.25345499e+02,  4.76460325e+00],\n",
       "       [-1.59809333e+02,  3.09280451e+00],\n",
       "       [-4.07981455e+02, -6.04477224e+00],\n",
       "       [ 3.45290835e+02,  4.14476963e+00],\n",
       "       [ 1.65270929e+02,  3.95861126e+00],\n",
       "       [-3.65038024e+02, -1.07459995e+01],\n",
       "       [ 7.65175460e+02, -6.38194322e+00],\n",
       "       [-1.99592285e+02,  1.57087775e+01],\n",
       "       [-2.83958617e+02, -3.91512165e+00],\n",
       "       [ 1.30074424e+02, -5.36473668e+00],\n",
       "       [ 2.40221942e+02, -2.42690368e-01],\n",
       "       [-2.29860706e+02,  1.74603700e-01],\n",
       "       [-2.49442315e+02,  2.65182918e+01],\n",
       "       [-1.25031360e+02, -1.24659230e+01],\n",
       "       [ 2.85099544e+02, -8.95639124e+00],\n",
       "       [-3.43953739e+02, -7.12801450e+00],\n",
       "       [-1.20178800e+02, -2.05408147e+01],\n",
       "       [-2.86786181e+02,  5.04769314e+00],\n",
       "       [-3.43023974e+02, -1.01034236e+01],\n",
       "       [-9.99370168e+01, -6.84995305e+00],\n",
       "       [-1.89875098e+02, -1.39747583e+00],\n",
       "       [-2.78009712e+02, -9.07312073e+00],\n",
       "       [-2.49597246e+02,  1.53903894e+01],\n",
       "       [ 8.05143301e+01,  2.23561126e+01],\n",
       "       [-3.60305273e+01, -1.39160396e+01],\n",
       "       [-6.49912164e+01, -1.14156559e+01],\n",
       "       [-1.19640218e+02,  1.35073332e+01],\n",
       "       [ 1.06565311e+01,  2.72866207e+01],\n",
       "       [ 5.35254707e+02, -8.31687911e-01],\n",
       "       [-1.49874130e+02, -2.10707549e+00],\n",
       "       [-7.00790193e+01, -1.53533978e+01],\n",
       "       [ 1.20196596e+02,  6.68949195e-01],\n",
       "       [-1.88023223e+02, -9.45493116e+00],\n",
       "       [ 1.30341973e+02,  7.44696617e+00],\n",
       "       [ 2.02136104e+01,  1.21044327e+00],\n",
       "       [ 2.95136877e+02, -7.09995716e+00],\n",
       "       [-3.34998927e+02, -9.25764520e+00],\n",
       "       [-2.40130292e+02, -1.87261923e+01],\n",
       "       [-4.04658930e+02,  1.38709850e+01],\n",
       "       [ 2.35190299e+02, -3.16927538e+00],\n",
       "       [-8.99414033e+01, -8.01929560e+00]])"
      ]
     },
     "execution_count": 7,
     "metadata": {},
     "output_type": "execute_result"
    }
   ],
   "source": [
    "pca_x_train"
   ]
  },
  {
   "cell_type": "markdown",
   "metadata": {},
   "source": [
    "- Take a look at the new data  \n",
    " "
   ]
  },
  {
   "cell_type": "code",
   "execution_count": 8,
   "metadata": {},
   "outputs": [],
   "source": [
    "def perform_pca(n):\n",
    "    xtrain,xtest,ytrain,ytest=train_test_split(x,y,test_size=.25,random_state=0)\n",
    "    \n",
    "    pca=PCA(n_components=n)\n",
    "    pca_xtrain=pca.fit_transform(xtrain)\n",
    "    pca_xtest=pca.transform(xtest)\n",
    "    \n",
    "    classifier=RandomForestClassifier()\n",
    "    classifier.fit(pca_xtrain,ytrain)\n",
    "    ypred=classifier.predict(pca_xtest)\n",
    "    print(\"N:\",n)\n",
    "    print(\"Confusion Matrix:\\n\",confusion_matrix(ytest,ypred))\n",
    "    print('Accuracy Score:\\n',accuracy_score(ytest,ypred))\n",
    "    \n",
    "    \n",
    "    \n",
    "    "
   ]
  },
  {
   "cell_type": "code",
   "execution_count": 9,
   "metadata": {},
   "outputs": [
    {
     "name": "stderr",
     "output_type": "stream",
     "text": [
      "C:\\Users\\Mohit Patel\\AppData\\Local\\Temp\\ipykernel_1516\\152591906.py:9: DataConversionWarning: A column-vector y was passed when a 1d array was expected. Please change the shape of y to (n_samples,), for example using ravel().\n",
      "  classifier.fit(pca_xtrain,ytrain)\n"
     ]
    },
    {
     "name": "stdout",
     "output_type": "stream",
     "text": [
      "N: 1\n",
      "Confusion Matrix:\n",
      " [[14  1  1]\n",
      " [ 1 14  6]\n",
      " [ 2  3  3]]\n",
      "Accuracy Score:\n",
      " 0.6888888888888889\n"
     ]
    },
    {
     "name": "stderr",
     "output_type": "stream",
     "text": [
      "C:\\Users\\Mohit Patel\\AppData\\Local\\Temp\\ipykernel_1516\\152591906.py:9: DataConversionWarning: A column-vector y was passed when a 1d array was expected. Please change the shape of y to (n_samples,), for example using ravel().\n",
      "  classifier.fit(pca_xtrain,ytrain)\n"
     ]
    },
    {
     "name": "stdout",
     "output_type": "stream",
     "text": [
      "N: 2\n",
      "Confusion Matrix:\n",
      " [[14  0  2]\n",
      " [ 1 15  5]\n",
      " [ 0  4  4]]\n",
      "Accuracy Score:\n",
      " 0.7333333333333333\n"
     ]
    },
    {
     "name": "stderr",
     "output_type": "stream",
     "text": [
      "C:\\Users\\Mohit Patel\\AppData\\Local\\Temp\\ipykernel_1516\\152591906.py:9: DataConversionWarning: A column-vector y was passed when a 1d array was expected. Please change the shape of y to (n_samples,), for example using ravel().\n",
      "  classifier.fit(pca_xtrain,ytrain)\n"
     ]
    },
    {
     "name": "stdout",
     "output_type": "stream",
     "text": [
      "N: 3\n",
      "Confusion Matrix:\n",
      " [[14  0  2]\n",
      " [ 0 19  2]\n",
      " [ 0  2  6]]\n",
      "Accuracy Score:\n",
      " 0.8666666666666667\n"
     ]
    },
    {
     "name": "stderr",
     "output_type": "stream",
     "text": [
      "C:\\Users\\Mohit Patel\\AppData\\Local\\Temp\\ipykernel_1516\\152591906.py:9: DataConversionWarning: A column-vector y was passed when a 1d array was expected. Please change the shape of y to (n_samples,), for example using ravel().\n",
      "  classifier.fit(pca_xtrain,ytrain)\n"
     ]
    },
    {
     "name": "stdout",
     "output_type": "stream",
     "text": [
      "N: 4\n",
      "Confusion Matrix:\n",
      " [[14  2  0]\n",
      " [ 0 20  1]\n",
      " [ 0  0  8]]\n",
      "Accuracy Score:\n",
      " 0.9333333333333333\n"
     ]
    },
    {
     "name": "stderr",
     "output_type": "stream",
     "text": [
      "C:\\Users\\Mohit Patel\\AppData\\Local\\Temp\\ipykernel_1516\\152591906.py:9: DataConversionWarning: A column-vector y was passed when a 1d array was expected. Please change the shape of y to (n_samples,), for example using ravel().\n",
      "  classifier.fit(pca_xtrain,ytrain)\n"
     ]
    },
    {
     "name": "stdout",
     "output_type": "stream",
     "text": [
      "N: 5\n",
      "Confusion Matrix:\n",
      " [[14  2  0]\n",
      " [ 0 21  0]\n",
      " [ 0  0  8]]\n",
      "Accuracy Score:\n",
      " 0.9555555555555556\n"
     ]
    },
    {
     "name": "stderr",
     "output_type": "stream",
     "text": [
      "C:\\Users\\Mohit Patel\\AppData\\Local\\Temp\\ipykernel_1516\\152591906.py:9: DataConversionWarning: A column-vector y was passed when a 1d array was expected. Please change the shape of y to (n_samples,), for example using ravel().\n",
      "  classifier.fit(pca_xtrain,ytrain)\n"
     ]
    },
    {
     "name": "stdout",
     "output_type": "stream",
     "text": [
      "N: 6\n",
      "Confusion Matrix:\n",
      " [[15  1  0]\n",
      " [ 0 21  0]\n",
      " [ 0  0  8]]\n",
      "Accuracy Score:\n",
      " 0.9777777777777777\n"
     ]
    },
    {
     "name": "stderr",
     "output_type": "stream",
     "text": [
      "C:\\Users\\Mohit Patel\\AppData\\Local\\Temp\\ipykernel_1516\\152591906.py:9: DataConversionWarning: A column-vector y was passed when a 1d array was expected. Please change the shape of y to (n_samples,), for example using ravel().\n",
      "  classifier.fit(pca_xtrain,ytrain)\n"
     ]
    },
    {
     "name": "stdout",
     "output_type": "stream",
     "text": [
      "N: 7\n",
      "Confusion Matrix:\n",
      " [[15  1  0]\n",
      " [ 0 20  1]\n",
      " [ 0  0  8]]\n",
      "Accuracy Score:\n",
      " 0.9555555555555556\n"
     ]
    },
    {
     "name": "stderr",
     "output_type": "stream",
     "text": [
      "C:\\Users\\Mohit Patel\\AppData\\Local\\Temp\\ipykernel_1516\\152591906.py:9: DataConversionWarning: A column-vector y was passed when a 1d array was expected. Please change the shape of y to (n_samples,), for example using ravel().\n",
      "  classifier.fit(pca_xtrain,ytrain)\n"
     ]
    },
    {
     "name": "stdout",
     "output_type": "stream",
     "text": [
      "N: 8\n",
      "Confusion Matrix:\n",
      " [[15  1  0]\n",
      " [ 0 21  0]\n",
      " [ 0  0  8]]\n",
      "Accuracy Score:\n",
      " 0.9777777777777777\n"
     ]
    },
    {
     "name": "stderr",
     "output_type": "stream",
     "text": [
      "C:\\Users\\Mohit Patel\\AppData\\Local\\Temp\\ipykernel_1516\\152591906.py:9: DataConversionWarning: A column-vector y was passed when a 1d array was expected. Please change the shape of y to (n_samples,), for example using ravel().\n",
      "  classifier.fit(pca_xtrain,ytrain)\n"
     ]
    },
    {
     "name": "stdout",
     "output_type": "stream",
     "text": [
      "N: 9\n",
      "Confusion Matrix:\n",
      " [[15  1  0]\n",
      " [ 0 20  1]\n",
      " [ 0  0  8]]\n",
      "Accuracy Score:\n",
      " 0.9555555555555556\n"
     ]
    }
   ],
   "source": [
    "for i in range(1,10):perform_pca(i)"
   ]
  },
  {
   "cell_type": "code",
   "execution_count": null,
   "metadata": {},
   "outputs": [],
   "source": []
  }
 ],
 "metadata": {
  "kernelspec": {
   "display_name": "Python 3.10.5 64-bit",
   "language": "python",
   "name": "python3"
  },
  "language_info": {
   "codemirror_mode": {
    "name": "ipython",
    "version": 3
   },
   "file_extension": ".py",
   "mimetype": "text/x-python",
   "name": "python",
   "nbconvert_exporter": "python",
   "pygments_lexer": "ipython3",
   "version": "3.10.5"
  },
  "orig_nbformat": 4,
  "vscode": {
   "interpreter": {
    "hash": "7bd3e9529dace0790d2bf807d9072d781712e5bcace48a6ba0314a9ea4b49ce4"
   }
  }
 },
 "nbformat": 4,
 "nbformat_minor": 2
}
