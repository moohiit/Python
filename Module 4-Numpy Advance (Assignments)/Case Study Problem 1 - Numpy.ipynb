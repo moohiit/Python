{
 "cells": [
  {
   "cell_type": "code",
   "execution_count": 2,
   "metadata": {},
   "outputs": [],
   "source": [
    "import numpy as np"
   ]
  },
  {
   "cell_type": "markdown",
   "metadata": {},
   "source": [
    "# Task to be performed:"
   ]
  },
  {
   "cell_type": "markdown",
   "metadata": {},
   "source": [
    "1. Create a function that takes dimensions as tuples e.g. (3,3) and a numeric value and returns a Numpy array of the given dimension filled with the given values e.g.:solve((3,3),5) will return."
   ]
  },
  {
   "cell_type": "code",
   "execution_count": 3,
   "metadata": {},
   "outputs": [],
   "source": [
    "def array1(x,y,z):\n",
    "    a=np.full((x,y),z)\n",
    "    return a"
   ]
  },
  {
   "cell_type": "code",
   "execution_count": 4,
   "metadata": {},
   "outputs": [
    {
     "data": {
      "text/plain": [
       "array([[5, 5, 5],\n",
       "       [5, 5, 5],\n",
       "       [5, 5, 5]])"
      ]
     },
     "execution_count": 4,
     "metadata": {},
     "output_type": "execute_result"
    }
   ],
   "source": [
    "array1(3,3,5)"
   ]
  },
  {
   "cell_type": "markdown",
   "metadata": {},
   "source": [
    "2.Create method that takes n numpy arrays of same dimensions sums them and return the answer."
   ]
  },
  {
   "cell_type": "code",
   "execution_count": 21,
   "metadata": {},
   "outputs": [],
   "source": [
    "# Review it: now done\n",
    "def sum_of_arrays():\n",
    "    a=[]\n",
    "    s=int(input(\"Number of arrays:\"))\n",
    "    y=int(input(\"no. of elements:\"))\n",
    "    for i in range(s):\n",
    "        b=[]\n",
    "        for j in range(y):\n",
    "            c=int(input())\n",
    "            b.append(c)\n",
    "        a.append(b)\n",
    "        print(\"Array\",i,\":\",b)\n",
    "    x=np.array(a)\n",
    "    print(\"Sum of arrays:\",np.sum(x,axis=0))\n",
    "    print(\"Sum of arrays:\",np.sum(x,axis=1))\n",
    "    \n",
    "    "
   ]
  },
  {
   "cell_type": "code",
   "execution_count": 22,
   "metadata": {},
   "outputs": [
    {
     "name": "stdout",
     "output_type": "stream",
     "text": [
      "Array 0 : [1, 2, 3]\n",
      "Array 1 : [4, 5, 6]\n",
      "Array 2 : [7, 8, 9]\n",
      "Array 3 : [4, 2, 6]\n",
      "Sum of arrays: [16 17 24]\n",
      "Sum of arrays: [ 6 15 24 12]\n"
     ]
    }
   ],
   "source": [
    "sum_of_arrays()"
   ]
  },
  {
   "cell_type": "code",
   "execution_count": 20,
   "metadata": {},
   "outputs": [
    {
     "name": "stdout",
     "output_type": "stream",
     "text": [
      "Array1:\n",
      " [[10 21 34 54]\n",
      " [33 45 34 55]]\n",
      "Array2:\n",
      " [[ 3  4  5  6]\n",
      " [ 8 90 78 45]]\n",
      "sum of array:\n",
      " 525\n"
     ]
    }
   ],
   "source": [
    "a=np.array([[10,21,34,54],[33,45,34,55]])\n",
    "b=np.array([[3,4,5,6],[8,90,78,45]])\n",
    "print(\"Array1:\\n\",a)\n",
    "print(\"Array2:\\n\",b)\n",
    "c=np.sum((a,b))\n",
    "print(\"sum of array:\\n\",c)"
   ]
  },
  {
   "cell_type": "code",
   "execution_count": null,
   "metadata": {},
   "outputs": [
    {
     "name": "stdout",
     "output_type": "stream",
     "text": [
      "[[ 13  25  39  60]\n",
      " [ 41 135 112 100]]\n"
     ]
    }
   ],
   "source": [
    "print(np.sum((a,b),axis=0))"
   ]
  },
  {
   "cell_type": "code",
   "execution_count": null,
   "metadata": {},
   "outputs": [
    {
     "name": "stdout",
     "output_type": "stream",
     "text": [
      "[[ 43  66  68 109]\n",
      " [ 11  94  83  51]]\n"
     ]
    }
   ],
   "source": [
    "print(np.sum((a,b),axis=1))\n"
   ]
  },
  {
   "cell_type": "code",
   "execution_count": null,
   "metadata": {},
   "outputs": [
    {
     "name": "stdout",
     "output_type": "stream",
     "text": [
      "[[119 167]\n",
      " [ 18 221]]\n"
     ]
    }
   ],
   "source": [
    "print(np.sum((a,b),axis=2))\n"
   ]
  },
  {
   "cell_type": "markdown",
   "metadata": {},
   "source": [
    "3. Give a 2D Array of N*M dimensions, write a function that accepts this array as well as two numbers N and M. The method should return the top left N*M sub matrix e.g."
   ]
  },
  {
   "cell_type": "code",
   "execution_count": null,
   "metadata": {},
   "outputs": [
    {
     "name": "stdout",
     "output_type": "stream",
     "text": [
      "[[1 2 3]\n",
      " [4 5 6]\n",
      " [7 8 9]]\n"
     ]
    },
    {
     "data": {
      "text/plain": [
       "array([[1, 2],\n",
       "       [4, 5]])"
      ]
     },
     "execution_count": 24,
     "metadata": {},
     "output_type": "execute_result"
    }
   ],
   "source": [
    "import numpy as np \n",
    "a=np.arange(1,10).reshape(3,3)\n",
    "print(a)\n",
    "\n",
    "# Top left Sub-matrix:2*2\n",
    "a[:2,:2]"
   ]
  },
  {
   "cell_type": "markdown",
   "metadata": {},
   "source": [
    "4. Give a 2D Array of N X M dimensions, write a function that accepts this array as well as two numbers N and M. The method should return the right bottom N X M sub matrix."
   ]
  },
  {
   "cell_type": "code",
   "execution_count": null,
   "metadata": {},
   "outputs": [
    {
     "name": "stdout",
     "output_type": "stream",
     "text": [
      "[1 2 3 4 5 6 7 8 9]\n",
      "[[1 2 3]\n",
      " [4 5 6]\n",
      " [7 8 9]]\n"
     ]
    },
    {
     "data": {
      "text/plain": [
       "array([[5, 6],\n",
       "       [8, 9]])"
      ]
     },
     "execution_count": 23,
     "metadata": {},
     "output_type": "execute_result"
    }
   ],
   "source": [
    "import numpy as np\n",
    "b=np.arange(1,10)\n",
    "print(b)\n",
    "c=b.reshape(3,3)\n",
    "print(c)\n",
    "\n",
    "# Slicing the array from a matrix right bottom:\n",
    "c[1:,1:]"
   ]
  },
  {
   "cell_type": "markdown",
   "metadata": {},
   "source": [
    "5. Given a 1D array. Write a function that accepts this array as parameters. The method should return a dictionary with 'mean' and 'std_dev' as key and array's mean and array's standard deviation  as values:"
   ]
  },
  {
   "cell_type": "code",
   "execution_count": null,
   "metadata": {},
   "outputs": [],
   "source": [
    "a=np.array([12,33,43])\n",
    "def fun1(a):\n",
    "    mean=a.mean()\n",
    "    std_dev=a.std()\n",
    "    return {'mean':mean,'std_dev':std_dev}"
   ]
  },
  {
   "cell_type": "code",
   "execution_count": null,
   "metadata": {},
   "outputs": [
    {
     "data": {
      "text/plain": [
       "{'mean': 29.333333333333332, 'std_dev': 12.918548250050733}"
      ]
     },
     "execution_count": 26,
     "metadata": {},
     "output_type": "execute_result"
    }
   ],
   "source": [
    "fun1(a)"
   ]
  },
  {
   "cell_type": "code",
   "execution_count": null,
   "metadata": {},
   "outputs": [],
   "source": []
  }
 ],
 "metadata": {
  "kernelspec": {
   "display_name": "Python 3.9.12 ('base')",
   "language": "python",
   "name": "python3"
  },
  "language_info": {
   "codemirror_mode": {
    "name": "ipython",
    "version": 3
   },
   "file_extension": ".py",
   "mimetype": "text/x-python",
   "name": "python",
   "nbconvert_exporter": "python",
   "pygments_lexer": "ipython3",
   "version": "3.9.12"
  },
  "orig_nbformat": 4,
  "vscode": {
   "interpreter": {
    "hash": "0047bc61666b17e61f1039988b004b5a2665927427600c9d3424f6f42a099518"
   }
  }
 },
 "nbformat": 4,
 "nbformat_minor": 2
}
