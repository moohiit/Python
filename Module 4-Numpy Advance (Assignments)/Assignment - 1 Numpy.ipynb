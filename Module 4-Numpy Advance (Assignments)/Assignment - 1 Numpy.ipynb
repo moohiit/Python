{
 "cells": [
  {
   "cell_type": "markdown",
   "metadata": {},
   "source": [
    "# Task to be performed :"
   ]
  },
  {
   "cell_type": "markdown",
   "metadata": {},
   "source": [
    "1. Create a list named 'mylist' that is having the following elements: 10,20,30 'apple',true,8.10.\n",
    "* Now in the 'mylist' append these values:30,40.\n",
    "* After that reverse the elements of the 'mylist' and store that in 'reversedlist'"
   ]
  },
  {
   "cell_type": "code",
   "execution_count": 1,
   "metadata": {},
   "outputs": [
    {
     "name": "stdout",
     "output_type": "stream",
     "text": [
      "[10, 20, 30, 'apple', True, 8.1]\n"
     ]
    }
   ],
   "source": [
    "#Creating A list named \"mylist\"\n",
    "mylist=[10,20,30,'apple',True,8.10]\n",
    "print(mylist)\n"
   ]
  },
  {
   "cell_type": "code",
   "execution_count": 2,
   "metadata": {},
   "outputs": [
    {
     "name": "stdout",
     "output_type": "stream",
     "text": [
      "[10, 20, 30, 'apple', True, 8.1, 30, 40]\n"
     ]
    }
   ],
   "source": [
    "\n",
    "#Appending the element in the list:\n",
    "mylist.append(30)\n",
    "mylist.append(40)\n",
    "print(mylist)\n",
    "\n"
   ]
  },
  {
   "cell_type": "code",
   "execution_count": 3,
   "metadata": {},
   "outputs": [
    {
     "data": {
      "text/plain": [
       "[40, 30, 8.1, True, 'apple', 30, 20, 10]"
      ]
     },
     "execution_count": 3,
     "metadata": {},
     "output_type": "execute_result"
    }
   ],
   "source": [
    "# Reversing the elements of the list:\n",
    "mylist.reverse()\n",
    "mylist"
   ]
  },
  {
   "cell_type": "markdown",
   "metadata": {},
   "source": [
    "2. Create a dictionary with key as 1,2,3 and values as 'data','information',and 'text'.\n",
    "* After that eliminate the 'text' value from the dictionary.\n",
    "* Add 'features' in the dictionary.\n",
    "* Fetch 'data' from the dictionary and display it in the output."
   ]
  },
  {
   "cell_type": "code",
   "execution_count": 4,
   "metadata": {},
   "outputs": [
    {
     "name": "stdout",
     "output_type": "stream",
     "text": [
      "Dictionary : {1: 'data', 2: 'information', 3: 'text'}\n"
     ]
    }
   ],
   "source": [
    "# Creating a dictionary:\n",
    "Dict={1:'data',2:'information',3:'text'}\n",
    "print(\"Dictionary :\",Dict)\n"
   ]
  },
  {
   "cell_type": "code",
   "execution_count": 5,
   "metadata": {},
   "outputs": [
    {
     "name": "stdout",
     "output_type": "stream",
     "text": [
      "{1: 'data', 2: 'information'}\n"
     ]
    }
   ],
   "source": [
    "#Eliminating the \"text\" value from the dictionary:\n",
    "Dict.pop(3)\n",
    "print(Dict)"
   ]
  },
  {
   "cell_type": "code",
   "execution_count": 6,
   "metadata": {},
   "outputs": [
    {
     "name": "stdout",
     "output_type": "stream",
     "text": [
      "{1: 'data', 2: 'information', 3: 'features'}\n"
     ]
    }
   ],
   "source": [
    "# Adding the element \"features\" in the dictionary:\n",
    "Dict[3]='features'\n",
    "print(Dict)"
   ]
  },
  {
   "cell_type": "code",
   "execution_count": 7,
   "metadata": {},
   "outputs": [
    {
     "data": {
      "text/plain": [
       "'data'"
      ]
     },
     "execution_count": 7,
     "metadata": {},
     "output_type": "execute_result"
    }
   ],
   "source": [
    "# feaching the element \"data\":\n",
    "Dict[1]"
   ]
  },
  {
   "cell_type": "markdown",
   "metadata": {},
   "source": [
    "3. Create a tuple and these elements 1,2,3,apple,mango in my_tuple."
   ]
  },
  {
   "cell_type": "code",
   "execution_count": 8,
   "metadata": {},
   "outputs": [
    {
     "name": "stdout",
     "output_type": "stream",
     "text": [
      "mytuple : (1, 2, 3, 'apple', 'mango')\n"
     ]
    }
   ],
   "source": [
    "# Creating a Tuple:\n",
    "my_tuple=(1,2,3,'apple','mango')\n",
    "print('mytuple :',my_tuple)"
   ]
  },
  {
   "cell_type": "markdown",
   "metadata": {},
   "source": [
    "4. Create another tuple named numeric_tuple consisting of only integer values 10,20,30,40,50.\n",
    "* Find the minimum value from the numeric_tuple.\n",
    "* Concatenate my_tuple with numeric_tuple and store the result in r1.\n",
    "* Duplicate the tuple named numeric_tuple 2 time and store in 'newdupli'."
   ]
  },
  {
   "cell_type": "code",
   "execution_count": 9,
   "metadata": {},
   "outputs": [
    {
     "name": "stdout",
     "output_type": "stream",
     "text": [
      "numeric tuple : (10, 20, 30, 40, 50)\n"
     ]
    }
   ],
   "source": [
    "#Creating a another tuple:\n",
    "numeric_tuple=(10,20,30,40,50)\n",
    "print('numeric tuple :',numeric_tuple)"
   ]
  },
  {
   "cell_type": "code",
   "execution_count": 17,
   "metadata": {},
   "outputs": [
    {
     "name": "stdout",
     "output_type": "stream",
     "text": [
      "minimum element of tuple:\n",
      " 10\n"
     ]
    }
   ],
   "source": [
    "# to finding the minimum element from the tuple:\n",
    "a=min(numeric_tuple)\n",
    "print(\"minimum element of tuple:\\n\",a)"
   ]
  },
  {
   "cell_type": "markdown",
   "metadata": {},
   "source": [
    "# Other way to find the minimum element from a tuple:"
   ]
  },
  {
   "cell_type": "code",
   "execution_count": 1,
   "metadata": {},
   "outputs": [
    {
     "name": "stdout",
     "output_type": "stream",
     "text": [
      "minimum value of tuple:\n",
      " 5\n"
     ]
    }
   ],
   "source": [
    "# Creating a tuple:\n",
    "tup1=(34,56,7,89,56,5,92)\n",
    "# Finding the min value from the tuple:\n",
    "min=tup1[0]\n",
    "for i in tup1:\n",
    "    if i<min:\n",
    "        min=i\n",
    "print(\"minimum value of tuple:\\n\",min)"
   ]
  },
  {
   "cell_type": "code",
   "execution_count": 22,
   "metadata": {},
   "outputs": [
    {
     "name": "stdout",
     "output_type": "stream",
     "text": [
      "concatenated tuples: [1, 2, 3, 'apple', 'mango', 10, 20, 30, 40, 50]\n"
     ]
    }
   ],
   "source": [
    "#concatenate my_tuple with numeric_tuple and store the result in r1.\n",
    "# to concatenate a tuple first we have to change it to the list and the make sum of those list to concatenate and again change that concatenated list to a tuple.\n",
    "a=list(my_tuple)\n",
    "b=list(numeric_tuple)\n",
    "\n",
    "x=a+b\n",
    "r1=tuple(x)\n",
    "print(\"concatenated tuples:\",x)"
   ]
  },
  {
   "cell_type": "code",
   "execution_count": 23,
   "metadata": {},
   "outputs": [
    {
     "name": "stdout",
     "output_type": "stream",
     "text": [
      "newdupli [10, 20, 30, 40, 50, 10, 20, 30, 40, 50]\n"
     ]
    }
   ],
   "source": [
    "# Duplicate the tuple named numeric_tuple 2 time and store in 'newdupli'\n",
    "d=list(numeric_tuple)\n",
    "newdupli=d*2\n",
    "print(\"newdupli\",newdupli)"
   ]
  },
  {
   "cell_type": "markdown",
   "metadata": {},
   "source": [
    "5. Create 2 sets with name set1 and set2, where set1 contains {1,2,3,4,5}and set2 to contains{2,3,7,6,1}\n",
    "\n",
    "  a.  Perform the below opertions:\n",
    "* set1 union set2\n",
    "* set1 intersection set2\n",
    "* set1 difference set2"
   ]
  },
  {
   "cell_type": "code",
   "execution_count": 12,
   "metadata": {},
   "outputs": [
    {
     "name": "stdout",
     "output_type": "stream",
     "text": [
      "{1, 2, 3, 4, 5}\n",
      "{1, 2, 3, 6, 7}\n"
     ]
    }
   ],
   "source": [
    "# Creating Sets:\n",
    "set1={1,2,3,4,5}\n",
    "set2={2,3,7,6,1}\n",
    "print(set1)\n",
    "print(set2)"
   ]
  },
  {
   "cell_type": "code",
   "execution_count": 13,
   "metadata": {},
   "outputs": [
    {
     "name": "stdout",
     "output_type": "stream",
     "text": [
      "{1, 2, 3, 4, 5, 6, 7}\n",
      "{1, 2, 3}\n",
      "{4, 5}\n",
      "{6, 7}\n"
     ]
    }
   ],
   "source": [
    "#applying the operations:\n",
    "union=set1.union(set2)\n",
    "intersection=set1.intersection(set2)\n",
    "difference=set1.difference(set2)\n",
    "difference1=set2.difference(set1)\n",
    "\n",
    "\n",
    "\n",
    "print(union)\n",
    "print(intersection)\n",
    "print(difference)\n",
    "print(difference1)\n"
   ]
  },
  {
   "cell_type": "code",
   "execution_count": null,
   "metadata": {},
   "outputs": [],
   "source": []
  }
 ],
 "metadata": {
  "kernelspec": {
   "display_name": "Python 3.9.12 ('base')",
   "language": "python",
   "name": "python3"
  },
  "language_info": {
   "codemirror_mode": {
    "name": "ipython",
    "version": 3
   },
   "file_extension": ".py",
   "mimetype": "text/x-python",
   "name": "python",
   "nbconvert_exporter": "python",
   "pygments_lexer": "ipython3",
   "version": "3.11.0"
  },
  "orig_nbformat": 4,
  "vscode": {
   "interpreter": {
    "hash": "0047bc61666b17e61f1039988b004b5a2665927427600c9d3424f6f42a099518"
   }
  }
 },
 "nbformat": 4,
 "nbformat_minor": 2
}
