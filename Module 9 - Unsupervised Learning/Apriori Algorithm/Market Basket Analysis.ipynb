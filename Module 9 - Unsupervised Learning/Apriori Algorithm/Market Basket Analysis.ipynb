{
 "cells": [
  {
   "cell_type": "markdown",
   "metadata": {},
   "source": [
    "### Market Basket Analysis using Apriori Algorithm"
   ]
  },
  {
   "cell_type": "code",
   "execution_count": null,
   "metadata": {},
   "outputs": [],
   "source": [
    "# pip install apyori\n",
    "\n",
    "import pandas as pd\n",
    "import numpy as np\n",
    "from apyori import apriori"
   ]
  },
  {
   "cell_type": "code",
   "execution_count": null,
   "metadata": {},
   "outputs": [],
   "source": [
    "store_data = pd.read_csv(\"store_data.csv\", header=None)"
   ]
  },
  {
   "cell_type": "code",
   "execution_count": null,
   "metadata": {},
   "outputs": [],
   "source": [
    "store_data.head()"
   ]
  },
  {
   "cell_type": "code",
   "execution_count": null,
   "metadata": {},
   "outputs": [],
   "source": [
    "store_data.fillna('MyChoice', inplace=True)"
   ]
  },
  {
   "cell_type": "code",
   "execution_count": null,
   "metadata": {},
   "outputs": [],
   "source": [
    "store_data.shape"
   ]
  },
  {
   "cell_type": "code",
   "execution_count": null,
   "metadata": {},
   "outputs": [],
   "source": [
    "l = []\n",
    "\n",
    "for i in range(1,store_data.shape[0]):\n",
    "    l.append([str(store_data.values[i,j]) for j in range(0,store_data.shape[1])])"
   ]
  },
  {
   "cell_type": "code",
   "execution_count": null,
   "metadata": {},
   "outputs": [],
   "source": [
    "l[0]"
   ]
  },
  {
   "cell_type": "code",
   "execution_count": null,
   "metadata": {},
   "outputs": [],
   "source": [
    "association_rules = apriori(l, min_support=0.0045, min_confidence=0.2, min_lift=2, max_length=2)\n",
    "association_results = list(association_rules)"
   ]
  },
  {
   "cell_type": "code",
   "execution_count": null,
   "metadata": {},
   "outputs": [],
   "source": [
    "for i in range(0, len(association_results)):\n",
    "    print(association_results[i])"
   ]
  },
  {
   "cell_type": "code",
   "execution_count": null,
   "metadata": {},
   "outputs": [],
   "source": [
    "association_results[0][2][0]"
   ]
  },
  {
   "cell_type": "code",
   "execution_count": null,
   "metadata": {},
   "outputs": [],
   "source": [
    "association_results[:5]\n",
    "\n",
    "### Light Cream, Chicken ==> 5 / 1000\n",
    "### Light Cream, Chicken, Oil ==> 10 / 1000 => Confidence, Lift\n",
    "### Light Cream, Chicken, Butter ==> 15 / 1000"
   ]
  },
  {
   "cell_type": "code",
   "execution_count": null,
   "metadata": {},
   "outputs": [],
   "source": [
    "for item in association_results:\n",
    "    pair = item[0] \n",
    "    items = [x for x in pair]\n",
    "    if items[0] != \"MyChoice\" or items[1] != \"MyChoice\":\n",
    "        print(f\"Rule: {items[0]}  ->  {items[1]}\")\n",
    "\n",
    "        print(\"Support: \" + str(item[1]))\n",
    "\n",
    "\n",
    "        print(\"Confidence: \" + str(item[2][0][2]))\n",
    "        print(\"Lift: \" + str(item[2][0][3]))\n",
    "        print(\"=====================================\")\n",
    "    else:\n",
    "        print(\"False Positive Removing\")"
   ]
  },
  {
   "cell_type": "code",
   "execution_count": null,
   "metadata": {},
   "outputs": [],
   "source": [
    "apriori?"
   ]
  },
  {
   "cell_type": "code",
   "execution_count": null,
   "metadata": {},
   "outputs": [],
   "source": []
  }
 ],
 "metadata": {
  "kernelspec": {
   "display_name": "Python 3.10.1 64-bit ('intellipaat_ds')",
   "language": "python",
   "name": "python3"
  },
  "language_info": {
   "codemirror_mode": {
    "name": "ipython",
    "version": 3
   },
   "file_extension": ".py",
   "mimetype": "text/x-python",
   "name": "python",
   "nbconvert_exporter": "python",
   "pygments_lexer": "ipython3",
   "version": "3.10.1"
  },
  "orig_nbformat": 4,
  "vscode": {
   "interpreter": {
    "hash": "3518455b389604bb53a76252682506dab21201926e69c322ffcabe3e3344a0ac"
   }
  }
 },
 "nbformat": 4,
 "nbformat_minor": 2
}
