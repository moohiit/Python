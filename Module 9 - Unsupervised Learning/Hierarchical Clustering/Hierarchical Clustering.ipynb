{
 "cells": [
  {
   "cell_type": "code",
   "execution_count": null,
   "metadata": {},
   "outputs": [],
   "source": [
    "import pandas as pd\n",
    "\n",
    "customer_data = pd.read_csv(\"customer_data.csv\")"
   ]
  },
  {
   "cell_type": "code",
   "execution_count": null,
   "metadata": {},
   "outputs": [],
   "source": [
    "import seaborn as sns\n",
    "\n",
    "# Dropping CustomerID column from data \n",
    "customer_data = customer_data.drop('CustomerID', axis=1)\n",
    "\n",
    "sns.pairplot(customer_data)"
   ]
  },
  {
   "cell_type": "code",
   "execution_count": null,
   "metadata": {},
   "outputs": [],
   "source": [
    "customer_data[\"Age\"].hist()"
   ]
  },
  {
   "cell_type": "code",
   "execution_count": null,
   "metadata": {},
   "outputs": [],
   "source": [
    "intervals = [15, 20, 30, 40, 50, 60, 70]\n",
    "col = customer_data['Age']\n",
    "customer_data['Age Groups'] = pd.cut(x=col, bins=intervals)\n",
    "\n",
    "# To be able to look at the result stored in the variable\n",
    "customer_data['Age Groups']"
   ]
  },
  {
   "cell_type": "code",
   "execution_count": null,
   "metadata": {},
   "outputs": [],
   "source": [
    "customer_data_encoded = pd.get_dummies(customer_data)\n",
    "# Display the one-hot encoded dataframe\n",
    "customer_data_encoded"
   ]
  },
  {
   "cell_type": "code",
   "execution_count": null,
   "metadata": {},
   "outputs": [],
   "source": [
    "sns.pairplot(customer_data_encoded)"
   ]
  },
  {
   "cell_type": "code",
   "execution_count": null,
   "metadata": {},
   "outputs": [],
   "source": [
    "shc.linkage?"
   ]
  },
  {
   "cell_type": "code",
   "execution_count": null,
   "metadata": {},
   "outputs": [],
   "source": [
    "import scipy.cluster.hierarchy as shc\n",
    "import matplotlib.pyplot as plt\n",
    "\n",
    "plt.figure(figsize=(20, 20))\n",
    "plt.title(\"Customers Dendrogram\")\n",
    "\n",
    "# Selecting Annual Income and Spending Scores by index\n",
    "selected_data = customer_data_encoded.iloc[:, 1:3]\n",
    "clusters = shc.linkage(selected_data, \n",
    "            method='ward', \n",
    "            metric=\"euclidean\")\n",
    "shc.dendrogram(Z=clusters)\n",
    "plt.show()"
   ]
  },
  {
   "cell_type": "code",
   "execution_count": null,
   "metadata": {},
   "outputs": [],
   "source": [
    "plt.figure(figsize=(20,20))\n",
    "clusters = shc.linkage(selected_data, \n",
    "            method='complete', \n",
    "            metric=\"euclidean\")\n",
    "shc.dendrogram(Z=clusters)\n",
    "plt.show()"
   ]
  },
  {
   "cell_type": "code",
   "execution_count": null,
   "metadata": {},
   "outputs": [],
   "source": [
    "plt.figure(figsize=(20,20))\n",
    "clusters = shc.linkage(selected_data, \n",
    "            method='centroid', \n",
    "            metric=\"euclidean\")\n",
    "shc.dendrogram(Z=clusters)\n",
    "plt.show()"
   ]
  },
  {
   "cell_type": "code",
   "execution_count": null,
   "metadata": {},
   "outputs": [],
   "source": [
    "plt.figure(figsize=(20,20))\n",
    "clusters = shc.linkage(selected_data, \n",
    "            method='average', \n",
    "            metric=\"euclidean\")\n",
    "shc.dendrogram(Z=clusters)\n",
    "plt.show()"
   ]
  },
  {
   "cell_type": "code",
   "execution_count": null,
   "metadata": {},
   "outputs": [],
   "source": [
    "plt.figure(figsize=(20,20))\n",
    "clusters = shc.linkage(selected_data, \n",
    "            method='single', \n",
    "            metric=\"euclidean\")\n",
    "shc.dendrogram(Z=clusters)\n",
    "plt.show()"
   ]
  },
  {
   "cell_type": "code",
   "execution_count": null,
   "metadata": {},
   "outputs": [],
   "source": [
    "plt.figure(figsize=(10, 7))\n",
    "plt.title(\"Customers Dendogram with line\")\n",
    "clusters = shc.linkage(selected_data, \n",
    "            method='ward', \n",
    "            metric=\"euclidean\")\n",
    "shc.dendrogram(clusters)\n",
    "plt.axhline(y = 125, color = 'r', linestyle = '-')"
   ]
  },
  {
   "cell_type": "code",
   "execution_count": null,
   "metadata": {},
   "outputs": [],
   "source": [
    "customer_data_encoded.iloc[:, 1:3].head()"
   ]
  },
  {
   "cell_type": "code",
   "execution_count": null,
   "metadata": {},
   "outputs": [],
   "source": [
    "from sklearn.cluster import AgglomerativeClustering\n",
    "selected_data = customer_data_encoded.iloc[:, 1:3]\n",
    "clustering_model = AgglomerativeClustering(n_clusters=5, affinity='euclidean', linkage='ward')\n",
    "clustering_model.fit(selected_data)\n",
    "clustering_model.labels_"
   ]
  },
  {
   "cell_type": "code",
   "execution_count": null,
   "metadata": {},
   "outputs": [],
   "source": [
    "data_labels = clustering_model.labels_\n",
    "sns.scatterplot(x='Annual Income (k$)', \n",
    "                y='Spending Score (1-100)', \n",
    "                data=selected_data, \n",
    "                hue=data_labels,palette='tab10').set_title('Labeled Customer Data')"
   ]
  },
  {
   "cell_type": "code",
   "execution_count": null,
   "metadata": {},
   "outputs": [],
   "source": [
    "from sklearn.cluster import KMeans\n",
    "import numpy as np\n",
    "\n",
    "k = 5\n",
    "x = selected_data.iloc[:,0].values\n",
    "y = selected_data.iloc[:,1].values\n",
    "X = list(zip(x, y))\n",
    "# Number of clusters\n",
    "kmeans = KMeans(n_clusters=k)\n",
    "# Fitting the input data\n",
    "kmeans.fit(X)\n",
    "# Getting the cluster labels\n",
    "labels = kmeans.labels_\n",
    "# Centroid values\n",
    "centroids = kmeans.cluster_centers_\n",
    "# Comparing with scikit-learn centroids\n",
    "print(centroids) # From sci-kit learn\n",
    "colors = ['r', 'g', 'b', 'y', 'c', 'm', 'r', 'g', 'b', 'y', 'c', 'm', 'r', 'g', 'b', 'y', 'c', 'm']\n",
    "fig, ax = plt.subplots()\n",
    "for i in range(k):\n",
    "        points = np.array([X[j] for j in range(len(X)) if labels[j] == i])\n",
    "        ax.scatter(points[:, 0], points[:, 1], s=7, c=colors[i])\n",
    "ax.scatter(centroids[:, 0], centroids[:, 1], marker='*', s=200, c='#050505')"
   ]
  },
  {
   "cell_type": "code",
   "execution_count": null,
   "metadata": {},
   "outputs": [],
   "source": [
    "sns.scatterplot(x=x, \n",
    "                y=y, \n",
    "                data=None, \n",
    "                hue=kmeans.labels_,palette='tab10').set_title('Labeled Customer Data')"
   ]
  },
  {
   "cell_type": "code",
   "execution_count": null,
   "metadata": {},
   "outputs": [],
   "source": [
    "Nc = range(1, 20)\n",
    "kmeans_lst = [KMeans(n_clusters=i) for i in Nc]\n",
    "score = [kmeans_lst[i].fit(X).score(X) for i in range(len(kmeans_lst))]\n",
    "\n",
    "plt.figure(figsize=(15,15))\n",
    "plt.plot(Nc, score)\n",
    "plt.xlabel('Number of Clusters')\n",
    "plt.ylabel('Score')\n",
    "plt.yticks(Nc)\n",
    "plt.title('Elbow Curve')\n",
    "plt.show()"
   ]
  },
  {
   "cell_type": "code",
   "execution_count": null,
   "metadata": {},
   "outputs": [],
   "source": [
    "from sklearn.metrics import silhouette_score"
   ]
  },
  {
   "cell_type": "code",
   "execution_count": null,
   "metadata": {},
   "outputs": [],
   "source": [
    "sil = []\n",
    "for k in range(2, 25):\n",
    "    kmeans = KMeans(n_clusters = k).fit(X)\n",
    "    labels = kmeans.predict(X)\n",
    "    sil.append(silhouette_score(X, labels))"
   ]
  },
  {
   "cell_type": "code",
   "execution_count": null,
   "metadata": {},
   "outputs": [],
   "source": [
    "from matplotlib.ticker import AutoMinorLocator\n",
    "\n",
    "ax = plt.subplot()\n",
    "\n",
    "ax.xaxis.set_minor_locator(AutoMinorLocator())\n",
    "ax.tick_params(which='minor', length = 4, color='red')\n",
    "ax.tick_params(which='major', length = 8, color='blue')\n",
    "\n",
    "ax.yaxis.set_minor_locator(AutoMinorLocator())\n",
    "ax.tick_params(which='minor', length = 4, color='red')\n",
    "ax.tick_params(which='major', length = 8, color='blue')\n",
    "\n",
    "ax.plot([x for x in range(2, 25)], sil)"
   ]
  },
  {
   "cell_type": "code",
   "execution_count": null,
   "metadata": {},
   "outputs": [],
   "source": []
  }
 ],
 "metadata": {
  "kernelspec": {
   "display_name": "Python 3.10.1 64-bit ('intellipaat_ds')",
   "language": "python",
   "name": "python3"
  },
  "language_info": {
   "codemirror_mode": {
    "name": "ipython",
    "version": 3
   },
   "file_extension": ".py",
   "mimetype": "text/x-python",
   "name": "python",
   "nbconvert_exporter": "python",
   "pygments_lexer": "ipython3",
   "version": "3.10.1"
  },
  "orig_nbformat": 4,
  "vscode": {
   "interpreter": {
    "hash": "3518455b389604bb53a76252682506dab21201926e69c322ffcabe3e3344a0ac"
   }
  }
 },
 "nbformat": 4,
 "nbformat_minor": 2
}
